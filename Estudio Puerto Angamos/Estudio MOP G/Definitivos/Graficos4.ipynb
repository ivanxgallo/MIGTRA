{
 "cells": [
  {
   "cell_type": "code",
   "execution_count": 1,
   "metadata": {},
   "outputs": [],
   "source": [
    "import pandas as pd\n",
    "import numpy as np\n",
    "import matplotlib.pyplot as plt \n",
    "import time\n",
    "import matplotlib \n",
    "matplotlib.rc_file_defaults()\n",
    "plt.rc('text', usetex=True)\n",
    "plt.rc('font', family='serif')\n",
    "params = {'xtick.labelsize': 10, 'ytick.labelsize': 10}\n",
    "matplotlib.rcParams.update(params)\n",
    "import datetime\n",
    "pd.set_option('display.max_columns', None)"
   ]
  },
  {
   "cell_type": "code",
   "execution_count": 69,
   "metadata": {},
   "outputs": [
    {
     "data": {
      "text/plain": [
       "(3218, 32)"
      ]
     },
     "execution_count": 69,
     "metadata": {},
     "output_type": "execute_result"
    }
   ],
   "source": [
    "# Cargamos los datos\n",
    "file_stats = \"SQMStats_Pangamos_20210830-20220203v3.xlsx\"\n",
    "df = pd.read_excel(file_stats)\n",
    "df_mop = df[(df[\"Producto\"].notna()) & (df[\"Producto\"].str.contains(\"MOP\")) \n",
    "            & df[\"Hora Ingreso a Puerto\"].notna() & df[\"Hora Legada a Espera\"].notna()]\n",
    "df_mop.shape"
   ]
  },
  {
   "cell_type": "code",
   "execution_count": 70,
   "metadata": {},
   "outputs": [],
   "source": [
    "# Dejamos columnas importantes\n",
    "cols = df_mop.columns\n",
    "cols = cols[~cols.str.contains(\"Unnamed\")]\n",
    "df_mop = df_mop[cols]"
   ]
  },
  {
   "cell_type": "code",
   "execution_count": 41,
   "metadata": {},
   "outputs": [
    {
     "data": {
      "text/html": [
       "<div>\n",
       "<style scoped>\n",
       "    .dataframe tbody tr th:only-of-type {\n",
       "        vertical-align: middle;\n",
       "    }\n",
       "\n",
       "    .dataframe tbody tr th {\n",
       "        vertical-align: top;\n",
       "    }\n",
       "\n",
       "    .dataframe thead th {\n",
       "        text-align: right;\n",
       "    }\n",
       "</style>\n",
       "<table border=\"1\" class=\"dataframe\">\n",
       "  <thead>\n",
       "    <tr style=\"text-align: right;\">\n",
       "      <th></th>\n",
       "      <th>Flota</th>\n",
       "      <th>Patente</th>\n",
       "      <th>Tipo</th>\n",
       "      <th>N Guia</th>\n",
       "      <th>Fecha</th>\n",
       "      <th>Producto</th>\n",
       "      <th>Viaje</th>\n",
       "      <th>Origen</th>\n",
       "      <th>Origen inicio</th>\n",
       "      <th>Origen salida</th>\n",
       "      <th>Destino</th>\n",
       "      <th>Destino termino</th>\n",
       "      <th>Hora Legada a Espera</th>\n",
       "      <th>Tiempo Espera [minutos]</th>\n",
       "      <th>Hora Ingreso a Puerto</th>\n",
       "      <th>Tiempo Total en Puerto</th>\n",
       "      <th>Tiempo total Descarga</th>\n",
       "      <th>Nombre Cancha</th>\n",
       "      <th>Nombre Geo Espera Exterior</th>\n",
       "    </tr>\n",
       "  </thead>\n",
       "  <tbody>\n",
       "    <tr>\n",
       "      <th>0</th>\n",
       "      <td>Astudillo</td>\n",
       "      <td>PJCJ50</td>\n",
       "      <td>GPS</td>\n",
       "      <td>124839</td>\n",
       "      <td>20210830 14:32:00</td>\n",
       "      <td>MOP-GR PLUS</td>\n",
       "      <td>Salar de Atacama-Puerto Angamos</td>\n",
       "      <td>Salar de Atacama</td>\n",
       "      <td>20210830 12:35:34</td>\n",
       "      <td>20210830 12:35:34</td>\n",
       "      <td>Puerto Angamos</td>\n",
       "      <td>20210831 10:07:29</td>\n",
       "      <td>20210830 19:44:12</td>\n",
       "      <td>752.233333</td>\n",
       "      <td>20210831 08:29:21</td>\n",
       "      <td>98.133333</td>\n",
       "      <td>11.116667</td>\n",
       "      <td>[uDeposito</td>\n",
       "      <td>uStacking]</td>\n",
       "    </tr>\n",
       "  </tbody>\n",
       "</table>\n",
       "</div>"
      ],
      "text/plain": [
       "       Flota Patente Tipo  N Guia              Fecha     Producto  \\\n",
       "0  Astudillo  PJCJ50  GPS  124839  20210830 14:32:00  MOP-GR PLUS   \n",
       "\n",
       "                             Viaje            Origen      Origen inicio  \\\n",
       "0  Salar de Atacama-Puerto Angamos  Salar de Atacama  20210830 12:35:34   \n",
       "\n",
       "       Origen salida         Destino    Destino termino Hora Legada a Espera  \\\n",
       "0  20210830 12:35:34  Puerto Angamos  20210831 10:07:29    20210830 19:44:12   \n",
       "\n",
       "   Tiempo Espera [minutos] Hora Ingreso a Puerto  Tiempo Total en Puerto  \\\n",
       "0               752.233333     20210831 08:29:21               98.133333   \n",
       "\n",
       "   Tiempo total Descarga Nombre Cancha Nombre Geo Espera Exterior  \n",
       "0              11.116667    [uDeposito                 uStacking]  "
      ]
     },
     "execution_count": 41,
     "metadata": {},
     "output_type": "execute_result"
    }
   ],
   "source": [
    "df_mop.head(1)"
   ]
  },
  {
   "cell_type": "code",
   "execution_count": 71,
   "metadata": {},
   "outputs": [],
   "source": [
    "# Transformamos fechas en formato datetime\n",
    "df_mop[\"Hora Ingreso a Puerto\"] = pd.to_datetime(df_mop[\"Hora Ingreso a Puerto\"])\n",
    "df_mop[\"Hora Legada a Espera\"] = pd.to_datetime(df_mop[\"Hora Legada a Espera\"])"
   ]
  },
  {
   "cell_type": "code",
   "execution_count": 43,
   "metadata": {},
   "outputs": [
    {
     "data": {
      "text/html": [
       "<div>\n",
       "<style scoped>\n",
       "    .dataframe tbody tr th:only-of-type {\n",
       "        vertical-align: middle;\n",
       "    }\n",
       "\n",
       "    .dataframe tbody tr th {\n",
       "        vertical-align: top;\n",
       "    }\n",
       "\n",
       "    .dataframe thead th {\n",
       "        text-align: right;\n",
       "    }\n",
       "</style>\n",
       "<table border=\"1\" class=\"dataframe\">\n",
       "  <thead>\n",
       "    <tr style=\"text-align: right;\">\n",
       "      <th></th>\n",
       "      <th>Flota</th>\n",
       "      <th>Patente</th>\n",
       "      <th>Tipo</th>\n",
       "      <th>N Guia</th>\n",
       "      <th>Fecha</th>\n",
       "      <th>Producto</th>\n",
       "      <th>Viaje</th>\n",
       "      <th>Origen</th>\n",
       "      <th>Origen inicio</th>\n",
       "      <th>Origen salida</th>\n",
       "      <th>Destino</th>\n",
       "      <th>Destino termino</th>\n",
       "      <th>Hora Legada a Espera</th>\n",
       "      <th>Tiempo Espera [minutos]</th>\n",
       "      <th>Hora Ingreso a Puerto</th>\n",
       "      <th>Tiempo Total en Puerto</th>\n",
       "      <th>Tiempo total Descarga</th>\n",
       "      <th>Nombre Cancha</th>\n",
       "      <th>Nombre Geo Espera Exterior</th>\n",
       "    </tr>\n",
       "  </thead>\n",
       "  <tbody>\n",
       "    <tr>\n",
       "      <th>0</th>\n",
       "      <td>Astudillo</td>\n",
       "      <td>PJCJ50</td>\n",
       "      <td>GPS</td>\n",
       "      <td>124839</td>\n",
       "      <td>20210830 14:32:00</td>\n",
       "      <td>MOP-GR PLUS</td>\n",
       "      <td>Salar de Atacama-Puerto Angamos</td>\n",
       "      <td>Salar de Atacama</td>\n",
       "      <td>20210830 12:35:34</td>\n",
       "      <td>20210830 12:35:34</td>\n",
       "      <td>Puerto Angamos</td>\n",
       "      <td>20210831 10:07:29</td>\n",
       "      <td>2021-08-30 19:44:12</td>\n",
       "      <td>752.233333</td>\n",
       "      <td>2021-08-31 08:29:21</td>\n",
       "      <td>98.133333</td>\n",
       "      <td>11.116667</td>\n",
       "      <td>[uDeposito</td>\n",
       "      <td>uStacking]</td>\n",
       "    </tr>\n",
       "  </tbody>\n",
       "</table>\n",
       "</div>"
      ],
      "text/plain": [
       "       Flota Patente Tipo  N Guia              Fecha     Producto  \\\n",
       "0  Astudillo  PJCJ50  GPS  124839  20210830 14:32:00  MOP-GR PLUS   \n",
       "\n",
       "                             Viaje            Origen      Origen inicio  \\\n",
       "0  Salar de Atacama-Puerto Angamos  Salar de Atacama  20210830 12:35:34   \n",
       "\n",
       "       Origen salida         Destino    Destino termino Hora Legada a Espera  \\\n",
       "0  20210830 12:35:34  Puerto Angamos  20210831 10:07:29  2021-08-30 19:44:12   \n",
       "\n",
       "   Tiempo Espera [minutos] Hora Ingreso a Puerto  Tiempo Total en Puerto  \\\n",
       "0               752.233333   2021-08-31 08:29:21               98.133333   \n",
       "\n",
       "   Tiempo total Descarga Nombre Cancha Nombre Geo Espera Exterior  \n",
       "0              11.116667    [uDeposito                 uStacking]  "
      ]
     },
     "execution_count": 43,
     "metadata": {},
     "output_type": "execute_result"
    }
   ],
   "source": [
    "df_mop.head(1)"
   ]
  },
  {
   "cell_type": "code",
   "execution_count": 72,
   "metadata": {},
   "outputs": [],
   "source": [
    "# Definimos la funcion que nos dice si es un turno nocturno\n",
    "def Nocturno(t):\n",
    "    if t > datetime.time(23,0,0):\n",
    "        return True\n",
    "    elif t < datetime.time(8,0,0):\n",
    "        return True\n",
    "    else: \n",
    "        return False"
   ]
  },
  {
   "cell_type": "code",
   "execution_count": 73,
   "metadata": {},
   "outputs": [],
   "source": [
    "# Agregamos la columna Turno Nocturno\n",
    "df_mop[\"Turno Nocturno\"] = df_mop[\"Hora Legada a Espera\"].apply(lambda x: Nocturno(x.time()))"
   ]
  },
  {
   "cell_type": "code",
   "execution_count": 74,
   "metadata": {},
   "outputs": [],
   "source": [
    "# Agregamos columna de Fecha de entrada a Espera\n",
    "df_mop[\"Fecha en Espera\"] = df_mop[\"Hora Legada a Espera\"].apply(lambda x: x.date())"
   ]
  },
  {
   "cell_type": "code",
   "execution_count": 87,
   "metadata": {},
   "outputs": [
    {
     "data": {
      "text/html": [
       "<div>\n",
       "<style scoped>\n",
       "    .dataframe tbody tr th:only-of-type {\n",
       "        vertical-align: middle;\n",
       "    }\n",
       "\n",
       "    .dataframe tbody tr th {\n",
       "        vertical-align: top;\n",
       "    }\n",
       "\n",
       "    .dataframe thead th {\n",
       "        text-align: right;\n",
       "    }\n",
       "</style>\n",
       "<table border=\"1\" class=\"dataframe\">\n",
       "  <thead>\n",
       "    <tr style=\"text-align: right;\">\n",
       "      <th></th>\n",
       "      <th>Flota</th>\n",
       "      <th>Patente</th>\n",
       "      <th>Tipo</th>\n",
       "      <th>N Guia</th>\n",
       "      <th>Fecha</th>\n",
       "      <th>Producto</th>\n",
       "      <th>Viaje</th>\n",
       "      <th>Origen</th>\n",
       "      <th>Origen inicio</th>\n",
       "      <th>Origen salida</th>\n",
       "      <th>Destino</th>\n",
       "      <th>Destino termino</th>\n",
       "      <th>Hora Legada a Espera</th>\n",
       "      <th>Tiempo Espera [minutos]</th>\n",
       "      <th>Hora Ingreso a Puerto</th>\n",
       "      <th>Tiempo Total en Puerto</th>\n",
       "      <th>Tiempo total Descarga</th>\n",
       "      <th>Nombre Cancha</th>\n",
       "      <th>Nombre Geo Espera Exterior</th>\n",
       "      <th>Turno Nocturno</th>\n",
       "      <th>Fecha en Espera</th>\n",
       "    </tr>\n",
       "  </thead>\n",
       "  <tbody>\n",
       "    <tr>\n",
       "      <th>47</th>\n",
       "      <td>Astudillo</td>\n",
       "      <td>PDWC66</td>\n",
       "      <td>GPS</td>\n",
       "      <td>124876</td>\n",
       "      <td>20210830 17:15:00</td>\n",
       "      <td>MOP-GR PLUS</td>\n",
       "      <td>Salar de Atacama-Puerto Angamos</td>\n",
       "      <td>Salar de Atacama</td>\n",
       "      <td>20210830 15:50:15</td>\n",
       "      <td>20210830 15:50:15</td>\n",
       "      <td>Puerto Angamos</td>\n",
       "      <td>20210831 12:08:46</td>\n",
       "      <td>2021-08-30 23:00:05</td>\n",
       "      <td>745.100000</td>\n",
       "      <td>2021-08-31 11:31:11</td>\n",
       "      <td>37.583333</td>\n",
       "      <td>17.616667</td>\n",
       "      <td>[uDeposito</td>\n",
       "      <td>uStacking]</td>\n",
       "      <td>True</td>\n",
       "      <td>2021-08-30</td>\n",
       "    </tr>\n",
       "    <tr>\n",
       "      <th>49</th>\n",
       "      <td>Astudillo</td>\n",
       "      <td>PJCJ13</td>\n",
       "      <td>GPS</td>\n",
       "      <td>124887</td>\n",
       "      <td>20210830 18:13:00</td>\n",
       "      <td>MOP-GR PLUS</td>\n",
       "      <td>Salar de Atacama-Puerto Angamos</td>\n",
       "      <td>Salar de Atacama</td>\n",
       "      <td>20210830 16:29:15</td>\n",
       "      <td>20210830 16:29:15</td>\n",
       "      <td>Puerto Angamos</td>\n",
       "      <td>20210831 12:13:46</td>\n",
       "      <td>2021-08-30 23:11:37</td>\n",
       "      <td>739.350000</td>\n",
       "      <td>2021-08-31 11:31:54</td>\n",
       "      <td>41.866667</td>\n",
       "      <td>15.533333</td>\n",
       "      <td>[uDeposito</td>\n",
       "      <td>uStacking]</td>\n",
       "      <td>True</td>\n",
       "      <td>2021-08-30</td>\n",
       "    </tr>\n",
       "    <tr>\n",
       "      <th>50</th>\n",
       "      <td>Astudillo</td>\n",
       "      <td>PDWC64</td>\n",
       "      <td>GPS</td>\n",
       "      <td>124894</td>\n",
       "      <td>20210830 18:35:00</td>\n",
       "      <td>MOP-GR PLUS</td>\n",
       "      <td>Salar de Atacama-Puerto Angamos</td>\n",
       "      <td>Salar de Atacama</td>\n",
       "      <td>20210830 16:42:56</td>\n",
       "      <td>20210830 16:42:56</td>\n",
       "      <td>Puerto Angamos</td>\n",
       "      <td>20210831 12:14:56</td>\n",
       "      <td>2021-08-30 23:11:25</td>\n",
       "      <td>743.583333</td>\n",
       "      <td>2021-08-31 11:35:00</td>\n",
       "      <td>39.933333</td>\n",
       "      <td>16.933333</td>\n",
       "      <td>[uDeposito</td>\n",
       "      <td>uStacking]</td>\n",
       "      <td>True</td>\n",
       "      <td>2021-08-30</td>\n",
       "    </tr>\n",
       "    <tr>\n",
       "      <th>51</th>\n",
       "      <td>Astudillo</td>\n",
       "      <td>PTLR16</td>\n",
       "      <td>GPS</td>\n",
       "      <td>124882</td>\n",
       "      <td>20210830 17:50:00</td>\n",
       "      <td>MOP-GR PLUS</td>\n",
       "      <td>Salar de Atacama-Puerto Angamos</td>\n",
       "      <td>Salar de Atacama</td>\n",
       "      <td>20210830 16:06:43</td>\n",
       "      <td>20210830 16:06:43</td>\n",
       "      <td>Puerto Angamos</td>\n",
       "      <td>20210831 12:17:32</td>\n",
       "      <td>2021-08-30 23:12:49</td>\n",
       "      <td>742.566667</td>\n",
       "      <td>2021-08-31 11:37:30</td>\n",
       "      <td>40.033333</td>\n",
       "      <td>14.650000</td>\n",
       "      <td>[uDeposito</td>\n",
       "      <td>uStacking]</td>\n",
       "      <td>True</td>\n",
       "      <td>2021-08-30</td>\n",
       "    </tr>\n",
       "    <tr>\n",
       "      <th>52</th>\n",
       "      <td>Astudillo</td>\n",
       "      <td>PFVH41</td>\n",
       "      <td>GPS</td>\n",
       "      <td>124891</td>\n",
       "      <td>20210830 18:25:00</td>\n",
       "      <td>MOP-GR PLUS</td>\n",
       "      <td>Salar de Atacama-Puerto Angamos</td>\n",
       "      <td>Salar de Atacama</td>\n",
       "      <td>20210830 16:38:19</td>\n",
       "      <td>20210830 16:38:19</td>\n",
       "      <td>Puerto Angamos</td>\n",
       "      <td>20210831 12:22:07</td>\n",
       "      <td>2021-08-30 23:22:45</td>\n",
       "      <td>736.016667</td>\n",
       "      <td>2021-08-31 11:39:11</td>\n",
       "      <td>42.933333</td>\n",
       "      <td>10.533333</td>\n",
       "      <td>[uDeposito</td>\n",
       "      <td>uStacking]</td>\n",
       "      <td>True</td>\n",
       "      <td>2021-08-30</td>\n",
       "    </tr>\n",
       "  </tbody>\n",
       "</table>\n",
       "</div>"
      ],
      "text/plain": [
       "        Flota Patente Tipo  N Guia              Fecha     Producto  \\\n",
       "47  Astudillo  PDWC66  GPS  124876  20210830 17:15:00  MOP-GR PLUS   \n",
       "49  Astudillo  PJCJ13  GPS  124887  20210830 18:13:00  MOP-GR PLUS   \n",
       "50  Astudillo  PDWC64  GPS  124894  20210830 18:35:00  MOP-GR PLUS   \n",
       "51  Astudillo  PTLR16  GPS  124882  20210830 17:50:00  MOP-GR PLUS   \n",
       "52  Astudillo  PFVH41  GPS  124891  20210830 18:25:00  MOP-GR PLUS   \n",
       "\n",
       "                              Viaje            Origen      Origen inicio  \\\n",
       "47  Salar de Atacama-Puerto Angamos  Salar de Atacama  20210830 15:50:15   \n",
       "49  Salar de Atacama-Puerto Angamos  Salar de Atacama  20210830 16:29:15   \n",
       "50  Salar de Atacama-Puerto Angamos  Salar de Atacama  20210830 16:42:56   \n",
       "51  Salar de Atacama-Puerto Angamos  Salar de Atacama  20210830 16:06:43   \n",
       "52  Salar de Atacama-Puerto Angamos  Salar de Atacama  20210830 16:38:19   \n",
       "\n",
       "        Origen salida         Destino    Destino termino Hora Legada a Espera  \\\n",
       "47  20210830 15:50:15  Puerto Angamos  20210831 12:08:46  2021-08-30 23:00:05   \n",
       "49  20210830 16:29:15  Puerto Angamos  20210831 12:13:46  2021-08-30 23:11:37   \n",
       "50  20210830 16:42:56  Puerto Angamos  20210831 12:14:56  2021-08-30 23:11:25   \n",
       "51  20210830 16:06:43  Puerto Angamos  20210831 12:17:32  2021-08-30 23:12:49   \n",
       "52  20210830 16:38:19  Puerto Angamos  20210831 12:22:07  2021-08-30 23:22:45   \n",
       "\n",
       "    Tiempo Espera [minutos] Hora Ingreso a Puerto  Tiempo Total en Puerto  \\\n",
       "47               745.100000   2021-08-31 11:31:11               37.583333   \n",
       "49               739.350000   2021-08-31 11:31:54               41.866667   \n",
       "50               743.583333   2021-08-31 11:35:00               39.933333   \n",
       "51               742.566667   2021-08-31 11:37:30               40.033333   \n",
       "52               736.016667   2021-08-31 11:39:11               42.933333   \n",
       "\n",
       "    Tiempo total Descarga Nombre Cancha Nombre Geo Espera Exterior  \\\n",
       "47              17.616667    [uDeposito                 uStacking]   \n",
       "49              15.533333    [uDeposito                 uStacking]   \n",
       "50              16.933333    [uDeposito                 uStacking]   \n",
       "51              14.650000    [uDeposito                 uStacking]   \n",
       "52              10.533333    [uDeposito                 uStacking]   \n",
       "\n",
       "    Turno Nocturno Fecha en Espera  \n",
       "47            True      2021-08-30  \n",
       "49            True      2021-08-30  \n",
       "50            True      2021-08-30  \n",
       "51            True      2021-08-30  \n",
       "52            True      2021-08-30  "
      ]
     },
     "execution_count": 87,
     "metadata": {},
     "output_type": "execute_result"
    }
   ],
   "source": [
    "df_mop[df_mop[\"Turno Nocturno\"]==True].head(5)"
   ]
  },
  {
   "cell_type": "code",
   "execution_count": 75,
   "metadata": {},
   "outputs": [],
   "source": [
    "# Generamos la lista de fechas con Turno Nocturno\n",
    "fechas_nocturnas = df_mop[\"Fecha en Espera\"][df_mop[\"Turno Nocturno\"] == True].unique()"
   ]
  },
  {
   "cell_type": "code",
   "execution_count": 88,
   "metadata": {},
   "outputs": [
    {
     "data": {
      "text/plain": [
       "array([datetime.date(2021, 8, 30), datetime.date(2021, 8, 31),\n",
       "       datetime.date(2021, 9, 1), datetime.date(2021, 9, 2),\n",
       "       datetime.date(2021, 9, 3), datetime.date(2021, 9, 4),\n",
       "       datetime.date(2021, 9, 5), datetime.date(2021, 9, 6),\n",
       "       datetime.date(2021, 9, 7), datetime.date(2021, 9, 8),\n",
       "       datetime.date(2021, 9, 23), datetime.date(2021, 9, 24),\n",
       "       datetime.date(2021, 9, 25), datetime.date(2021, 9, 26),\n",
       "       datetime.date(2021, 9, 27), datetime.date(2021, 9, 28),\n",
       "       datetime.date(2021, 9, 29), datetime.date(2021, 9, 30),\n",
       "       datetime.date(2021, 10, 1), datetime.date(2021, 10, 2),\n",
       "       datetime.date(2021, 10, 3), datetime.date(2021, 10, 4),\n",
       "       datetime.date(2022, 1, 17), datetime.date(2022, 1, 21),\n",
       "       datetime.date(2022, 1, 23), datetime.date(2022, 1, 24),\n",
       "       datetime.date(2022, 1, 25), datetime.date(2022, 1, 26),\n",
       "       datetime.date(2022, 1, 27), datetime.date(2022, 1, 28),\n",
       "       datetime.date(2022, 1, 29), datetime.date(2022, 1, 30),\n",
       "       datetime.date(2022, 1, 31), datetime.date(2022, 2, 1),\n",
       "       datetime.date(2022, 2, 2)], dtype=object)"
      ]
     },
     "execution_count": 88,
     "metadata": {},
     "output_type": "execute_result"
    }
   ],
   "source": [
    "fechas_nocturnas"
   ]
  },
  {
   "cell_type": "code",
   "execution_count": 77,
   "metadata": {},
   "outputs": [],
   "source": [
    "# Defino un DataFrame solo con los turnos nocturnos \n",
    "df_noct = df_mop[df_mop[\"Turno Nocturno\"] == True]"
   ]
  },
  {
   "cell_type": "code",
   "execution_count": 78,
   "metadata": {},
   "outputs": [],
   "source": [
    "# Reinicio el indice\n",
    "df_noct.reset_index(drop = True, inplace = True)"
   ]
  },
  {
   "cell_type": "code",
   "execution_count": 52,
   "metadata": {},
   "outputs": [
    {
     "data": {
      "text/html": [
       "<div>\n",
       "<style scoped>\n",
       "    .dataframe tbody tr th:only-of-type {\n",
       "        vertical-align: middle;\n",
       "    }\n",
       "\n",
       "    .dataframe tbody tr th {\n",
       "        vertical-align: top;\n",
       "    }\n",
       "\n",
       "    .dataframe thead th {\n",
       "        text-align: right;\n",
       "    }\n",
       "</style>\n",
       "<table border=\"1\" class=\"dataframe\">\n",
       "  <thead>\n",
       "    <tr style=\"text-align: right;\">\n",
       "      <th></th>\n",
       "      <th>Flota</th>\n",
       "      <th>Patente</th>\n",
       "      <th>Tipo</th>\n",
       "      <th>N Guia</th>\n",
       "      <th>Fecha</th>\n",
       "      <th>Producto</th>\n",
       "      <th>Viaje</th>\n",
       "      <th>Origen</th>\n",
       "      <th>Origen inicio</th>\n",
       "      <th>Origen salida</th>\n",
       "      <th>Destino</th>\n",
       "      <th>Destino termino</th>\n",
       "      <th>Hora Legada a Espera</th>\n",
       "      <th>Tiempo Espera [minutos]</th>\n",
       "      <th>Hora Ingreso a Puerto</th>\n",
       "      <th>Tiempo Total en Puerto</th>\n",
       "      <th>Tiempo total Descarga</th>\n",
       "      <th>Nombre Cancha</th>\n",
       "      <th>Nombre Geo Espera Exterior</th>\n",
       "      <th>Turno Nocturno</th>\n",
       "      <th>Fecha en Espera</th>\n",
       "    </tr>\n",
       "  </thead>\n",
       "  <tbody>\n",
       "    <tr>\n",
       "      <th>0</th>\n",
       "      <td>Astudillo</td>\n",
       "      <td>PDWC66</td>\n",
       "      <td>GPS</td>\n",
       "      <td>124876</td>\n",
       "      <td>20210830 17:15:00</td>\n",
       "      <td>MOP-GR PLUS</td>\n",
       "      <td>Salar de Atacama-Puerto Angamos</td>\n",
       "      <td>Salar de Atacama</td>\n",
       "      <td>20210830 15:50:15</td>\n",
       "      <td>20210830 15:50:15</td>\n",
       "      <td>Puerto Angamos</td>\n",
       "      <td>20210831 12:08:46</td>\n",
       "      <td>2021-08-30 23:00:05</td>\n",
       "      <td>745.1</td>\n",
       "      <td>2021-08-31 11:31:11</td>\n",
       "      <td>37.583333</td>\n",
       "      <td>17.616667</td>\n",
       "      <td>[uDeposito</td>\n",
       "      <td>uStacking]</td>\n",
       "      <td>True</td>\n",
       "      <td>2021-08-30</td>\n",
       "    </tr>\n",
       "  </tbody>\n",
       "</table>\n",
       "</div>"
      ],
      "text/plain": [
       "       Flota Patente Tipo  N Guia              Fecha     Producto  \\\n",
       "0  Astudillo  PDWC66  GPS  124876  20210830 17:15:00  MOP-GR PLUS   \n",
       "\n",
       "                             Viaje            Origen      Origen inicio  \\\n",
       "0  Salar de Atacama-Puerto Angamos  Salar de Atacama  20210830 15:50:15   \n",
       "\n",
       "       Origen salida         Destino    Destino termino Hora Legada a Espera  \\\n",
       "0  20210830 15:50:15  Puerto Angamos  20210831 12:08:46  2021-08-30 23:00:05   \n",
       "\n",
       "   Tiempo Espera [minutos] Hora Ingreso a Puerto  Tiempo Total en Puerto  \\\n",
       "0                    745.1   2021-08-31 11:31:11               37.583333   \n",
       "\n",
       "   Tiempo total Descarga Nombre Cancha Nombre Geo Espera Exterior  \\\n",
       "0              17.616667    [uDeposito                 uStacking]   \n",
       "\n",
       "   Turno Nocturno Fecha en Espera  \n",
       "0            True      2021-08-30  "
      ]
     },
     "execution_count": 52,
     "metadata": {},
     "output_type": "execute_result"
    }
   ],
   "source": [
    "df_noct.head(1)"
   ]
  },
  {
   "cell_type": "code",
   "execution_count": 53,
   "metadata": {},
   "outputs": [
    {
     "data": {
      "text/plain": [
       "True"
      ]
     },
     "execution_count": 53,
     "metadata": {},
     "output_type": "execute_result"
    }
   ],
   "source": [
    "df_noct[\"Hora Ingreso a Puerto\"][0].date() > df_noct[\"Hora Legada a Espera\"][0].date()"
   ]
  },
  {
   "cell_type": "code",
   "execution_count": 79,
   "metadata": {},
   "outputs": [],
   "source": [
    "# Definimos la funcion que entrega si la descarga ocurre despues de las 8.30\n",
    "def Descarga(te, tp):\n",
    "    if te.time() < datetime.time(8,0,0):\n",
    "        if tp.time() > datetime.time(8,30,0):\n",
    "            return True\n",
    "    else:\n",
    "        if tp.time() > datetime.time(8,30,0):\n",
    "            return True\n",
    "        else:\n",
    "            return False"
   ]
  },
  {
   "cell_type": "code",
   "execution_count": 80,
   "metadata": {},
   "outputs": [
    {
     "name": "stderr",
     "output_type": "stream",
     "text": [
      "<ipython-input-80-06f5b5192015>:2: SettingWithCopyWarning: \n",
      "A value is trying to be set on a copy of a slice from a DataFrame.\n",
      "Try using .loc[row_indexer,col_indexer] = value instead\n",
      "\n",
      "See the caveats in the documentation: https://pandas.pydata.org/pandas-docs/stable/user_guide/indexing.html#returning-a-view-versus-a-copy\n",
      "  df_noct[\"Descarga en Apertura\"] = df_noct.apply(lambda x: Descarga(x[\"Hora Legada a Espera\"], x[\"Hora Ingreso a Puerto\"]), axis = 1)\n"
     ]
    }
   ],
   "source": [
    "# Creamos una nueva columna que diga si ocurre la descarga en horario de puerto\n",
    "df_noct[\"Descarga en Apertura\"] = df_noct.apply(lambda x: Descarga(x[\"Hora Legada a Espera\"], x[\"Hora Ingreso a Puerto\"]), axis = 1)"
   ]
  },
  {
   "cell_type": "code",
   "execution_count": 81,
   "metadata": {},
   "outputs": [
    {
     "data": {
      "text/html": [
       "<div>\n",
       "<style scoped>\n",
       "    .dataframe tbody tr th:only-of-type {\n",
       "        vertical-align: middle;\n",
       "    }\n",
       "\n",
       "    .dataframe tbody tr th {\n",
       "        vertical-align: top;\n",
       "    }\n",
       "\n",
       "    .dataframe thead th {\n",
       "        text-align: right;\n",
       "    }\n",
       "</style>\n",
       "<table border=\"1\" class=\"dataframe\">\n",
       "  <thead>\n",
       "    <tr style=\"text-align: right;\">\n",
       "      <th></th>\n",
       "      <th>Flota</th>\n",
       "      <th>Patente</th>\n",
       "      <th>Tipo</th>\n",
       "      <th>N Guia</th>\n",
       "      <th>Fecha</th>\n",
       "      <th>Producto</th>\n",
       "      <th>Viaje</th>\n",
       "      <th>Origen</th>\n",
       "      <th>Origen inicio</th>\n",
       "      <th>Origen salida</th>\n",
       "      <th>Destino</th>\n",
       "      <th>Destino termino</th>\n",
       "      <th>Hora Legada a Espera</th>\n",
       "      <th>Tiempo Espera [minutos]</th>\n",
       "      <th>Hora Ingreso a Puerto</th>\n",
       "      <th>Tiempo Total en Puerto</th>\n",
       "      <th>Tiempo total Descarga</th>\n",
       "      <th>Nombre Cancha</th>\n",
       "      <th>Nombre Geo Espera Exterior</th>\n",
       "      <th>Turno Nocturno</th>\n",
       "      <th>Fecha en Espera</th>\n",
       "      <th>Descarga en Apertura</th>\n",
       "    </tr>\n",
       "  </thead>\n",
       "  <tbody>\n",
       "    <tr>\n",
       "      <th>0</th>\n",
       "      <td>Astudillo</td>\n",
       "      <td>PDWC66</td>\n",
       "      <td>GPS</td>\n",
       "      <td>124876</td>\n",
       "      <td>20210830 17:15:00</td>\n",
       "      <td>MOP-GR PLUS</td>\n",
       "      <td>Salar de Atacama-Puerto Angamos</td>\n",
       "      <td>Salar de Atacama</td>\n",
       "      <td>20210830 15:50:15</td>\n",
       "      <td>20210830 15:50:15</td>\n",
       "      <td>Puerto Angamos</td>\n",
       "      <td>20210831 12:08:46</td>\n",
       "      <td>2021-08-30 23:00:05</td>\n",
       "      <td>745.1</td>\n",
       "      <td>2021-08-31 11:31:11</td>\n",
       "      <td>37.583333</td>\n",
       "      <td>17.616667</td>\n",
       "      <td>[uDeposito</td>\n",
       "      <td>uStacking]</td>\n",
       "      <td>True</td>\n",
       "      <td>2021-08-30</td>\n",
       "      <td>True</td>\n",
       "    </tr>\n",
       "  </tbody>\n",
       "</table>\n",
       "</div>"
      ],
      "text/plain": [
       "       Flota Patente Tipo  N Guia              Fecha     Producto  \\\n",
       "0  Astudillo  PDWC66  GPS  124876  20210830 17:15:00  MOP-GR PLUS   \n",
       "\n",
       "                             Viaje            Origen      Origen inicio  \\\n",
       "0  Salar de Atacama-Puerto Angamos  Salar de Atacama  20210830 15:50:15   \n",
       "\n",
       "       Origen salida         Destino    Destino termino Hora Legada a Espera  \\\n",
       "0  20210830 15:50:15  Puerto Angamos  20210831 12:08:46  2021-08-30 23:00:05   \n",
       "\n",
       "   Tiempo Espera [minutos] Hora Ingreso a Puerto  Tiempo Total en Puerto  \\\n",
       "0                    745.1   2021-08-31 11:31:11               37.583333   \n",
       "\n",
       "   Tiempo total Descarga Nombre Cancha Nombre Geo Espera Exterior  \\\n",
       "0              17.616667    [uDeposito                 uStacking]   \n",
       "\n",
       "   Turno Nocturno Fecha en Espera Descarga en Apertura  \n",
       "0            True      2021-08-30                 True  "
      ]
     },
     "execution_count": 81,
     "metadata": {},
     "output_type": "execute_result"
    }
   ],
   "source": [
    "df_noct[df_noct[\"Descarga en Apertura\"] == True].head(1)"
   ]
  },
  {
   "cell_type": "code",
   "execution_count": 82,
   "metadata": {},
   "outputs": [],
   "source": [
    "# Creamos una lista con las fechas en espera solo donde ocurrio descarga\n",
    "fechas_descarga = df_noct[\"Fecha en Espera\"][df_noct[\"Descarga en Apertura\"] == True].unique()"
   ]
  },
  {
   "cell_type": "code",
   "execution_count": 83,
   "metadata": {},
   "outputs": [],
   "source": [
    "# Hacemos el conteo de camiones\n",
    "\n",
    "N_desc = []\n",
    "for i in fechas_descarga:\n",
    "    a = df_noct[df_noct[\"Fecha en Espera\"] == i]\n",
    "    N_desc.append(a.shape[0])\n",
    "    \n",
    "N_desc = np.array(N_desc)"
   ]
  },
  {
   "cell_type": "code",
   "execution_count": 84,
   "metadata": {},
   "outputs": [
    {
     "data": {
      "text/plain": [
       "array(['2021-08-30', '2021-08-31', '2021-09-01', '2021-09-02',\n",
       "       '2021-09-03', '2021-09-04', '2021-09-05', '2021-09-06',\n",
       "       '2021-09-07', '2021-09-08', '2021-09-23', '2021-09-24',\n",
       "       '2021-09-25', '2021-09-27', '2021-09-28', '2021-09-29',\n",
       "       '2021-09-30', '2021-10-01', '2021-10-02', '2021-10-03',\n",
       "       '2021-10-04', '2022-01-17', '2022-01-21', '2022-01-23',\n",
       "       '2022-01-24', '2022-01-25', '2022-01-26', '2022-01-27',\n",
       "       '2022-01-28', '2022-01-29', '2022-01-30', '2022-01-31',\n",
       "       '2022-02-01', '2022-02-02'], dtype='<U10')"
      ]
     },
     "execution_count": 84,
     "metadata": {},
     "output_type": "execute_result"
    }
   ],
   "source": [
    "# creamos la lista con string de fechas\n",
    "f_descarga = np.array([str(i) for i in fechas_descarga])\n",
    "f_descarga"
   ]
  },
  {
   "cell_type": "code",
   "execution_count": 85,
   "metadata": {},
   "outputs": [
    {
     "data": {
      "image/png": "[encoded data removed]",
      "text/plain": [
       "<Figure size 1750x750 with 1 Axes>"
      ]
     },
     "metadata": {},
     "output_type": "display_data"
    }
   ],
   "source": [
    "# Ploteamos\n",
    "\n",
    "fig = plt.figure(figsize=(7,3), dpi = 250)\n",
    "\n",
    "ax2 = fig.add_subplot(111)\n",
    "\n",
    "\n",
    "#ax2.plot(Rangos, Mean_Trucks, \"ro\", label = \"Tiempo Prom.\")\n",
    "ax2.bar(f_descarga, N_desc, label = \"N° Camiones Por Día\", color = \"deepskyblue\" )\n",
    "ax2.set_title(\"Camiones en Turno Nocturno Atendidos en Horario de Puerto\", fontsize = 13)\n",
    "ax2.set_ylabel(\"N° de Camiones\", fontsize = 15)\n",
    "\n",
    "ax2.set_xticks(f_descarga)\n",
    "ax2.set_xticklabels(f_descarga, rotation = 35, fontsize = 7, fontdict = {\"horizontalalignment\": \"right\"}) #xtick, fontsize=10,\n",
    "ax2.set_xlabel(\"Fecha de Llegada a Espera\", fontsize = 13)\n",
    "ax2.set_ylim([0,22])\n",
    "#ax2.grid()\n",
    "#ax2.legend()\n",
    "#ax2.axhline(y = T_semana.mean(), c = \"r\", \n",
    "                #linestyle = \"--\", linewidth = 1, label = \"Tiempo Promedio \\n Semanal\")\n",
    "\n",
    "\n",
    "for i, label in enumerate(N_desc):\n",
    "    if label != 0.:\n",
    "        plt.annotate(str(round(label)), (i-0.35, N_desc[i]+0.25), fontsize = 8)\n",
    "\n",
    "plt.savefig(\"Graficos/Camiones en Turno Nocturno Atendidos en Horario de Puerto.png\", bbox_inches= \"tight\")"
   ]
  },
  {
   "cell_type": "code",
   "execution_count": 61,
   "metadata": {},
   "outputs": [
    {
     "name": "stderr",
     "output_type": "stream",
     "text": [
      "<ipython-input-61-4ae8a189fa6d>:1: SettingWithCopyWarning: \n",
      "A value is trying to be set on a copy of a slice from a DataFrame.\n",
      "Try using .loc[row_indexer,col_indexer] = value instead\n",
      "\n",
      "See the caveats in the documentation: https://pandas.pydata.org/pandas-docs/stable/user_guide/indexing.html#returning-a-view-versus-a-copy\n",
      "  df_noct[\"Fecha en Puerto\"] = df_noct[\"Hora Ingreso a Puerto\"].apply(lambda x: x.date())\n"
     ]
    }
   ],
   "source": [
    "# queremos ver ahora \n",
    "df_noct[\"Fecha en Puerto\"] = df_noct[\"Hora Ingreso a Puerto\"].apply(lambda x: x.date())"
   ]
  },
  {
   "cell_type": "code",
   "execution_count": 62,
   "metadata": {},
   "outputs": [],
   "source": [
    "fechas_puerto = df_noct[\"Fecha en Puerto\"][df_noct[\"Descarga en Apertura\"] == True].unique()"
   ]
  },
  {
   "cell_type": "code",
   "execution_count": 63,
   "metadata": {},
   "outputs": [],
   "source": [
    "N_puerto = []\n",
    "for i in fechas_puerto:\n",
    "    a = df_noct[df_noct[\"Fecha en Puerto\"] == i]\n",
    "    N_puerto.append(a.shape[0])\n",
    "    \n",
    "N_puerto = np.array(N_puerto)"
   ]
  },
  {
   "cell_type": "code",
   "execution_count": 64,
   "metadata": {},
   "outputs": [
    {
     "data": {
      "text/plain": [
       "35"
      ]
     },
     "execution_count": 64,
     "metadata": {},
     "output_type": "execute_result"
    }
   ],
   "source": [
    "f_puerto = np.array([str(i) for i in fechas_puerto])\n",
    "f_puerto.size"
   ]
  },
  {
   "cell_type": "code",
   "execution_count": 68,
   "metadata": {},
   "outputs": [
    {
     "data": {
      "image/png": "[encoded data removed]",
      "text/plain": [
       "<Figure size 1750x750 with 1 Axes>"
      ]
     },
     "metadata": {},
     "output_type": "display_data"
    }
   ],
   "source": [
    "fig = plt.figure(figsize=(7,3), dpi = 250)\n",
    "\n",
    "ax2 = fig.add_subplot(111)\n",
    "\n",
    "\n",
    "#ax2.plot(Rangos, Mean_Trucks, \"ro\", label = \"Tiempo Prom.\")\n",
    "ax2.bar(f_puerto, N_puerto, label = \"N° Camiones Por Día\", color = \"deepskyblue\" )\n",
    "ax2.set_title(\"Camiones en Turno Nocturno Atendidos en Horario de Puerto\", fontsize = 13)\n",
    "ax2.set_ylabel(\"N° de Camiones\", fontsize = 15)\n",
    "\n",
    "ax2.set_xticks(f_puerto)\n",
    "ax2.set_xticklabels(f_puerto, rotation = 35, fontsize = 7, fontdict = {\"horizontalalignment\": \"right\"}) #xtick, fontsize=10,\n",
    "ax2.set_xlabel(\"Fecha de Llegada a Espera\", fontsize = 13)\n",
    "ax2.set_ylim([0,25])\n",
    "#ax2.grid()\n",
    "#ax2.legend()\n",
    "#ax2.axhline(y = T_semana.mean(), c = \"r\", \n",
    "                #linestyle = \"--\", linewidth = 1, label = \"Tiempo Promedio \\n Semanal\")\n",
    "\n",
    "\n",
    "for i, label in enumerate(N_puerto):\n",
    "    if label != 0.:\n",
    "        plt.annotate(str(round(label)), (i-0.35, N_puerto[i]+0.25), fontsize = 8)\n",
    "\n",
    "#plt.savefig(\"Graficos/Camiones en Turno Nocturno Atendidos en Horario de Puerto.png\", bbox_inches= \"tight\")"
   ]
  },
  {
   "cell_type": "code",
   "execution_count": 66,
   "metadata": {},
   "outputs": [
    {
     "data": {
      "text/plain": [
       "(35, 35)"
      ]
     },
     "execution_count": 66,
     "metadata": {},
     "output_type": "execute_result"
    }
   ],
   "source": [
    " N_puerto.size, fechas_puerto.size"
   ]
  },
  {
   "cell_type": "code",
   "execution_count": 67,
   "metadata": {},
   "outputs": [
    {
     "data": {
      "text/plain": [
       "(303, 306)"
      ]
     },
     "execution_count": 67,
     "metadata": {},
     "output_type": "execute_result"
    }
   ],
   "source": [
    "N_desc.sum(), N_puerto.sum()"
   ]
  },
  {
   "cell_type": "code",
   "execution_count": null,
   "metadata": {},
   "outputs": [],
   "source": []
  }
 ],
 "metadata": {
  "kernelspec": {
   "display_name": "Python 3",
   "language": "python",
   "name": "python3"
  },
  "language_info": {
   "codemirror_mode": {
    "name": "ipython",
    "version": 3
   },
   "file_extension": ".py",
   "mimetype": "text/x-python",
   "name": "python",
   "nbconvert_exporter": "python",
   "pygments_lexer": "ipython3",
   "version": "3.8.5"
  }
 },
 "nbformat": 4,
 "nbformat_minor": 4
}
