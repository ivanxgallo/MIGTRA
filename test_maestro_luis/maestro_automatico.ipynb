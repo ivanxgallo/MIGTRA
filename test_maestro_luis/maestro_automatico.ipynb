{
 "cells": [
  {
   "cell_type": "code",
   "execution_count": 4,
   "metadata": {},
   "outputs": [],
   "source": [
    "import pandas as pd \n",
    "import numpy as np\n",
    "from openpyxl import load_workbook"
   ]
  },
  {
   "cell_type": "code",
   "execution_count": 5,
   "metadata": {},
   "outputs": [],
   "source": [
    "file_i = 'Maestro Enero 2023.xlsx'\n",
    "master_wb = load_workbook(file_i)\n",
    "sheet = master_wb.worksheets[0]"
   ]
  },
  {
   "cell_type": "code",
   "execution_count": 8,
   "metadata": {},
   "outputs": [
    {
     "data": {
      "text/plain": [
       "(1936, 14)"
      ]
     },
     "execution_count": 8,
     "metadata": {},
     "output_type": "execute_result"
    }
   ],
   "source": [
    "n_row = sheet.max_row\n",
    "n_col = sheet.max_column\n",
    "n_row, n_col"
   ]
  },
  {
   "cell_type": "code",
   "execution_count": 20,
   "metadata": {},
   "outputs": [
    {
     "name": "stdout",
     "output_type": "stream",
     "text": [
      "[(393, 'FFFFFF00'), (429, 'FF481D32'), (491, 'FF481D32'), (524, 'FF481D32'), (525, 'FF481D32'), (526, 'FF481D32'), (527, 'FF481D32'), (528, 'FF481D32'), (529, 'FF481D32'), (530, 'FF481D32'), (531, 'FF481D32'), (532, 'FF481D32'), (533, 'FF481D32'), (534, 'FF481D32'), (535, 'FF481D32'), (536, 'FF481D32'), (537, 'FF481D32'), (538, 'FF481D32'), (539, 'FF481D32'), (540, 'FF481D32'), (541, 'FF481D32'), (542, 'FF481D32')]\n"
     ]
    }
   ],
   "source": [
    "color = []  \n",
    "\n",
    "for i in range(1,n_row):\n",
    "    cell1 = sheet.cell(column=1, row=i)\n",
    "    cell2 = sheet.cell(column=2, row=i)\n",
    "    id = cell1.value\n",
    "    bgColor = cell2.fill.bgColor.index\n",
    "    \n",
    "    if (bgColor != '00000000'): #or (fgColor != '00000000'):\n",
    "        color.append((id, bgColor))\n",
    "\n",
    "print(color)\n"
   ]
  },
  {
   "cell_type": "code",
   "execution_count": 45,
   "metadata": {},
   "outputs": [],
   "source": [
    "def get_sheet_changes(file_name):\n",
    "    master_wb = load_workbook(file_name)            # we use the function load_workbook from openpyxl\n",
    "    sheet = master_wb.worksheets[0]                 # select the first sheet\n",
    "    n_row, n_col = sheet.max_row, sheet.max_column  # define the rows and cols of the sheet\n",
    "    headers = [c.value for c in sheet[1] if c.value is not None]\n",
    "    changes = []\n",
    "\n",
    "    for i in range(1,n_row):\n",
    "        asset_changes = []\n",
    "        cell = sheet.cell(column=2, row=i)\n",
    "        asset_color = cell.fill.bgColor.index\n",
    "        if (asset_color != '00000000'):\n",
    "            effective_sheet = sheet[i][2:]              # we are interested in other columns\n",
    "            for j, col in enumerate(effective_sheet):     \n",
    "                col_color = col.fill.bgColor.index\n",
    "                if (col_color != '00000000'):           # if cell has color then we save the changes\n",
    "                    asset_changes.append({'value':col.value,'column':headers[col.column-1]})\n",
    "            changes.append({'id':sheet.cell(column=1, row=i).value ,'changes':asset_changes})\n",
    "\n",
    "    return changes\n",
    "            \n"
   ]
  },
  {
   "cell_type": "code",
   "execution_count": 61,
   "metadata": {},
   "outputs": [
    {
     "data": {
      "text/plain": [
       "[{'id': 393,\n",
       "  'changes': [{'value': 'ENEX', 'column': 'alias1'},\n",
       "   {'value': 'Especialista 4', 'column': 'alias2'}]},\n",
       " {'id': 429,\n",
       "  'changes': [{'value': 1, 'column': 'active'},\n",
       "   {'value': 'GEMIN', 'column': 'alias1'},\n",
       "   {'value': 'Especialista 6', 'column': 'alias2'}]},\n",
       " {'id': 491,\n",
       "  'changes': [{'value': 0, 'column': 'active'},\n",
       "   {'value': 'JYD M', 'column': 'alias1'},\n",
       "   {'value': 'Especialista 2', 'column': 'alias2'}]},\n",
       " {'id': 524,\n",
       "  'changes': [{'value': 0, 'column': 'active'},\n",
       "   {'value': 'P&J', 'column': 'alias1'},\n",
       "   {'value': 'Especialista 1', 'column': 'alias2'}]},\n",
       " {'id': 525,\n",
       "  'changes': [{'value': 0, 'column': 'active'},\n",
       "   {'value': 'P&J', 'column': 'alias1'},\n",
       "   {'value': 'Especialista 6', 'column': 'alias2'}]},\n",
       " {'id': 526,\n",
       "  'changes': [{'value': 0, 'column': 'active'},\n",
       "   {'value': 'P&J', 'column': 'alias1'},\n",
       "   {'value': 'Especialista 1', 'column': 'alias2'}]},\n",
       " {'id': 527,\n",
       "  'changes': [{'value': 0, 'column': 'active'},\n",
       "   {'value': 'P&J', 'column': 'alias1'},\n",
       "   {'value': 'Especialista 1', 'column': 'alias2'}]},\n",
       " {'id': 528,\n",
       "  'changes': [{'value': 0, 'column': 'active'},\n",
       "   {'value': 'P&J', 'column': 'alias1'},\n",
       "   {'value': 'Especialista 1', 'column': 'alias2'}]},\n",
       " {'id': 529,\n",
       "  'changes': [{'value': 0, 'column': 'active'},\n",
       "   {'value': 'P&J', 'column': 'alias1'},\n",
       "   {'value': 'Especialista 1', 'column': 'alias2'}]},\n",
       " {'id': 530,\n",
       "  'changes': [{'value': 0, 'column': 'active'},\n",
       "   {'value': 'P&J', 'column': 'alias1'},\n",
       "   {'value': 'Especialista 6', 'column': 'alias2'}]},\n",
       " {'id': 531,\n",
       "  'changes': [{'value': 0, 'column': 'active'},\n",
       "   {'value': 'P&J', 'column': 'alias1'},\n",
       "   {'value': 'Especialista 6', 'column': 'alias2'}]},\n",
       " {'id': 532,\n",
       "  'changes': [{'value': 1, 'column': 'active'},\n",
       "   {'value': 'P&J', 'column': 'alias1'},\n",
       "   {'value': 'Especialista 3', 'column': 'alias2'}]},\n",
       " {'id': 533,\n",
       "  'changes': [{'value': 0, 'column': 'active'},\n",
       "   {'value': 'P&J', 'column': 'alias1'},\n",
       "   {'value': 'Especialista 6', 'column': 'alias2'}]},\n",
       " {'id': 534,\n",
       "  'changes': [{'value': 0, 'column': 'active'},\n",
       "   {'value': 'P&J', 'column': 'alias1'},\n",
       "   {'value': 'Especialista 6', 'column': 'alias2'}]},\n",
       " {'id': 535,\n",
       "  'changes': [{'value': 1, 'column': 'active'},\n",
       "   {'value': 'P&J', 'column': 'alias1'},\n",
       "   {'value': 'Especialista 6', 'column': 'alias2'}]},\n",
       " {'id': 536,\n",
       "  'changes': [{'value': 0, 'column': 'active'},\n",
       "   {'value': 'P&J', 'column': 'alias1'},\n",
       "   {'value': 'Especialista 6', 'column': 'alias2'}]},\n",
       " {'id': 537,\n",
       "  'changes': [{'value': 0, 'column': 'active'},\n",
       "   {'value': 'P&J', 'column': 'alias1'},\n",
       "   {'value': 'Especialista 3', 'column': 'alias2'}]},\n",
       " {'id': 538,\n",
       "  'changes': [{'value': 1, 'column': 'active'},\n",
       "   {'value': 'P&J', 'column': 'alias1'},\n",
       "   {'value': 'Especialista 6', 'column': 'alias2'}]},\n",
       " {'id': 539,\n",
       "  'changes': [{'value': 1, 'column': 'active'},\n",
       "   {'value': 'P&J', 'column': 'alias1'},\n",
       "   {'value': 'Especialista 6', 'column': 'alias2'}]},\n",
       " {'id': 540,\n",
       "  'changes': [{'value': 1, 'column': 'active'},\n",
       "   {'value': 'P&J', 'column': 'alias1'},\n",
       "   {'value': 'Especialista 6', 'column': 'alias2'}]},\n",
       " {'id': 541,\n",
       "  'changes': [{'value': 0, 'column': 'active'},\n",
       "   {'value': 'P&J', 'column': 'alias1'},\n",
       "   {'value': 'Especialista 1', 'column': 'alias2'}]},\n",
       " {'id': 542,\n",
       "  'changes': [{'value': 0, 'column': 'active'},\n",
       "   {'value': 'P&J', 'column': 'alias1'},\n",
       "   {'value': 'Especialista 1', 'column': 'alias2'}]}]"
      ]
     },
     "execution_count": 61,
     "metadata": {},
     "output_type": "execute_result"
    }
   ],
   "source": [
    "changes = get_sheet_changes(file_i)\n",
    "changes"
   ]
  },
  {
   "cell_type": "code",
   "execution_count": 96,
   "metadata": {},
   "outputs": [
    {
     "name": "stdout",
     "output_type": "stream",
     "text": [
      "ENEX\n",
      "Especialista 4\n",
      "1\n",
      "GEMIN\n",
      "Especialista 6\n",
      "0\n",
      "JYD M\n",
      "Especialista 2\n",
      "0\n",
      "P&J\n",
      "Especialista 1\n",
      "0\n",
      "P&J\n",
      "Especialista 6\n",
      "0\n",
      "P&J\n",
      "Especialista 1\n",
      "0\n",
      "P&J\n",
      "Especialista 1\n",
      "0\n",
      "P&J\n",
      "Especialista 1\n",
      "0\n",
      "P&J\n",
      "Especialista 1\n",
      "0\n",
      "P&J\n",
      "Especialista 6\n",
      "0\n",
      "P&J\n",
      "Especialista 6\n",
      "1\n",
      "P&J\n",
      "Especialista 3\n",
      "0\n",
      "P&J\n",
      "Especialista 6\n",
      "0\n",
      "P&J\n",
      "Especialista 6\n",
      "1\n",
      "P&J\n",
      "Especialista 6\n",
      "0\n",
      "P&J\n",
      "Especialista 6\n",
      "0\n",
      "P&J\n",
      "Especialista 3\n",
      "1\n",
      "P&J\n",
      "Especialista 6\n",
      "1\n",
      "P&J\n",
      "Especialista 6\n",
      "1\n",
      "P&J\n",
      "Especialista 6\n",
      "0\n",
      "P&J\n",
      "Especialista 1\n",
      "0\n",
      "P&J\n",
      "Especialista 1\n"
     ]
    }
   ],
   "source": [
    "for change in changes:                      \n",
    "        for col_change in change[\"changes\"]: \n",
    "                print(col_change[\"value\"])\n",
    "\n",
    "#changes[0][\"changes\"][0]#[\"value\"]"
   ]
  },
  {
   "cell_type": "code",
   "execution_count": 114,
   "metadata": {},
   "outputs": [],
   "source": [
    "def set_sheet_changes(changes, file_name):\n",
    "    df_master = pd.read_excel(file_name, sheet_name=0)\n",
    "\n",
    "\n",
    "    for change in changes:                      # iterating in changes (colored cells)\n",
    "        for col_change in change[\"changes\"]:    # iterating in all changes of certain row\n",
    "            #print(change[\"id\"], col_change[\"column\"])\n",
    "            #print(change[\"id\"], df_master.loc[df_master[\"id\"] == change[\"id\"], col_change[\"column\"]], col_change[\"value\"])\n",
    "\n",
    "            # if the previous value was different than the current one then we do the change \n",
    "            if (str(df_master.loc[df_master[\"id\"] == change[\"id\"], col_change[\"column\"]]) != str(col_change[\"value\"])):\n",
    "                df_master.loc[df_master[\"id\"] == change[\"id\"], col_change[\"column\"]] = col_change[\"value\"]\n",
    "            \n",
    "\n",
    "    df_master.to_excel(\"test.xlsx\", index=False)\n",
    "\n"
   ]
  },
  {
   "cell_type": "code",
   "execution_count": 115,
   "metadata": {},
   "outputs": [],
   "source": [
    "file_f = 'maestro_20230110.xlsx'\n",
    "set_sheet_changes(changes, file_f)"
   ]
  },
  {
   "cell_type": "code",
   "execution_count": null,
   "metadata": {},
   "outputs": [],
   "source": []
  },
  {
   "cell_type": "code",
   "execution_count": 36,
   "metadata": {},
   "outputs": [
    {
     "data": {
      "text/plain": [
       "'BDYH11'"
      ]
     },
     "execution_count": 36,
     "metadata": {},
     "output_type": "execute_result"
    }
   ],
   "source": [
    "cell2 = sheet.cell(column=2, row=2)\n",
    "cell2.value\n"
   ]
  },
  {
   "cell_type": "code",
   "execution_count": 74,
   "metadata": {},
   "outputs": [
    {
     "data": {
      "text/html": [
       "<div>\n",
       "<style scoped>\n",
       "    .dataframe tbody tr th:only-of-type {\n",
       "        vertical-align: middle;\n",
       "    }\n",
       "\n",
       "    .dataframe tbody tr th {\n",
       "        vertical-align: top;\n",
       "    }\n",
       "\n",
       "    .dataframe thead th {\n",
       "        text-align: right;\n",
       "    }\n",
       "</style>\n",
       "<table border=\"1\" class=\"dataframe\">\n",
       "  <thead>\n",
       "    <tr style=\"text-align: right;\">\n",
       "      <th></th>\n",
       "      <th>Name</th>\n",
       "      <th>Age</th>\n",
       "    </tr>\n",
       "  </thead>\n",
       "  <tbody>\n",
       "    <tr>\n",
       "      <th>0</th>\n",
       "      <td>John</td>\n",
       "      <td>25</td>\n",
       "    </tr>\n",
       "    <tr>\n",
       "      <th>1</th>\n",
       "      <td>Jane</td>\n",
       "      <td>30</td>\n",
       "    </tr>\n",
       "    <tr>\n",
       "      <th>2</th>\n",
       "      <td>None</td>\n",
       "      <td>35</td>\n",
       "    </tr>\n",
       "    <tr>\n",
       "      <th>3</th>\n",
       "      <td>Bob</td>\n",
       "      <td>40</td>\n",
       "    </tr>\n",
       "  </tbody>\n",
       "</table>\n",
       "</div>"
      ],
      "text/plain": [
       "   Name  Age\n",
       "0  John   25\n",
       "1  Jane   30\n",
       "2  None   35\n",
       "3   Bob   40"
      ]
     },
     "execution_count": 74,
     "metadata": {},
     "output_type": "execute_result"
    }
   ],
   "source": [
    "df = pd.DataFrame({'Name': ['John', 'Jane', None, 'Bob'], 'Age': [25, 30, 35, 40]})\n",
    "df"
   ]
  },
  {
   "cell_type": "code",
   "execution_count": 101,
   "metadata": {},
   "outputs": [
    {
     "data": {
      "text/html": [
       "<div>\n",
       "<style scoped>\n",
       "    .dataframe tbody tr th:only-of-type {\n",
       "        vertical-align: middle;\n",
       "    }\n",
       "\n",
       "    .dataframe tbody tr th {\n",
       "        vertical-align: top;\n",
       "    }\n",
       "\n",
       "    .dataframe thead th {\n",
       "        text-align: right;\n",
       "    }\n",
       "</style>\n",
       "<table border=\"1\" class=\"dataframe\">\n",
       "  <thead>\n",
       "    <tr style=\"text-align: right;\">\n",
       "      <th></th>\n",
       "      <th>Name</th>\n",
       "      <th>Age</th>\n",
       "    </tr>\n",
       "  </thead>\n",
       "  <tbody>\n",
       "    <tr>\n",
       "      <th>3</th>\n",
       "      <td>Bob</td>\n",
       "      <td>40</td>\n",
       "    </tr>\n",
       "  </tbody>\n",
       "</table>\n",
       "</div>"
      ],
      "text/plain": [
       "  Name  Age\n",
       "3  Bob   40"
      ]
     },
     "execution_count": 101,
     "metadata": {},
     "output_type": "execute_result"
    }
   ],
   "source": [
    "aux = df[df[\"Name\"]==\"Bob\"]\n",
    "#aux.loc[3][1]\n",
    "aux"
   ]
  },
  {
   "cell_type": "code",
   "execution_count": 100,
   "metadata": {},
   "outputs": [
    {
     "data": {
      "text/plain": [
       "0    25\n",
       "Name: Age, dtype: int64"
      ]
     },
     "execution_count": 100,
     "metadata": {},
     "output_type": "execute_result"
    }
   ],
   "source": [
    "df.loc[df['Name'] == 'John', 'Age']"
   ]
  },
  {
   "cell_type": "code",
   "execution_count": 1,
   "metadata": {},
   "outputs": [
    {
     "data": {
      "text/plain": [
       "[5, 1]"
      ]
     },
     "execution_count": 1,
     "metadata": {},
     "output_type": "execute_result"
    }
   ],
   "source": [
    "lista = [1,2,3,4,5]\n",
    "lista2 = [lista[-1]] + [lista[0]]\n",
    "lista2"
   ]
  },
  {
   "cell_type": "code",
   "execution_count": null,
   "metadata": {},
   "outputs": [],
   "source": []
  }
 ],
 "metadata": {
  "kernelspec": {
   "display_name": "migtra3.10",
   "language": "python",
   "name": "python3"
  },
  "language_info": {
   "codemirror_mode": {
    "name": "ipython",
    "version": 3
   },
   "file_extension": ".py",
   "mimetype": "text/x-python",
   "name": "python",
   "nbconvert_exporter": "python",
   "pygments_lexer": "ipython3",
   "version": "3.10.6"
  },
  "orig_nbformat": 4,
  "vscode": {
   "interpreter": {
    "hash": "dd7dc5f126d485cf67406c316692407461c03767c66796eb9e140b96cd53e7d4"
   }
  }
 },
 "nbformat": 4,
 "nbformat_minor": 2
}
