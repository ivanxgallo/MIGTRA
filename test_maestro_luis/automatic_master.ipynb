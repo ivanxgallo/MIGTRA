{
 "cells": [
  {
   "cell_type": "code",
   "execution_count": 1,
   "metadata": {},
   "outputs": [],
   "source": [
    "import pandas as pd\n",
    "import numpy as np\n",
    "from datetime import datetime, timedelta\n",
    "from openpyxl import load_workbook"
   ]
  },
  {
   "cell_type": "code",
   "execution_count": 5,
   "metadata": {},
   "outputs": [
    {
     "data": {
      "text/plain": [
       "'Maestro 20230125'"
      ]
     },
     "execution_count": 5,
     "metadata": {},
     "output_type": "execute_result"
    }
   ],
   "source": [
    "\"Maestro \"+datetime.now().strftime(\"%Y%m%d\")"
   ]
  },
  {
   "cell_type": "code",
   "execution_count": 2,
   "metadata": {},
   "outputs": [],
   "source": [
    "file_i = 'Maestro Enero 2023.xlsx'\n",
    "master_wb = load_workbook(file_i)\n",
    "sheet = master_wb.worksheets[0]"
   ]
  },
  {
   "cell_type": "code",
   "execution_count": 3,
   "metadata": {},
   "outputs": [
    {
     "data": {
      "text/plain": [
       "(1936, 14)"
      ]
     },
     "execution_count": 3,
     "metadata": {},
     "output_type": "execute_result"
    }
   ],
   "source": [
    "n_row = sheet.max_row\n",
    "n_col = sheet.max_column\n",
    "n_row, n_col"
   ]
  },
  {
   "cell_type": "code",
   "execution_count": 4,
   "metadata": {},
   "outputs": [
    {
     "name": "stdout",
     "output_type": "stream",
     "text": [
      "[(393, 'FFFFFF00'), (429, 'FF481D32'), (491, 'FF481D32'), (524, 'FF481D32'), (525, 'FF481D32'), (526, 'FF481D32'), (527, 'FF481D32'), (528, 'FF481D32'), (529, 'FF481D32'), (530, 'FF481D32'), (531, 'FF481D32'), (532, 'FF481D32'), (533, 'FF481D32'), (534, 'FF481D32'), (535, 'FF481D32'), (536, 'FF481D32'), (537, 'FF481D32'), (538, 'FF481D32'), (539, 'FF481D32'), (540, 'FF481D32'), (541, 'FF481D32'), (542, 'FF481D32')]\n"
     ]
    }
   ],
   "source": [
    "color = []  \n",
    "\n",
    "for i in range(1,n_row):\n",
    "    cell1 = sheet.cell(column=1, row=i)\n",
    "    cell2 = sheet.cell(column=2, row=i)\n",
    "    id = cell1.value\n",
    "    bgColor = cell2.fill.bgColor.index\n",
    "    \n",
    "    if (bgColor != '00000000'): #or (fgColor != '00000000'):\n",
    "        color.append((id, bgColor))\n",
    "\n",
    "print(color)\n"
   ]
  },
  {
   "cell_type": "code",
   "execution_count": 5,
   "metadata": {},
   "outputs": [],
   "source": [
    "def get_sheet_changes(file_name):\n",
    "    master_wb = load_workbook(file_name)            # we use the function load_workbook from openpyxl\n",
    "    sheet = master_wb.worksheets[0]                 # select the first sheet\n",
    "    n_row, n_col = sheet.max_row, sheet.max_column  # define the rows and cols of the sheet\n",
    "    headers = [c.value for c in sheet[1] if c.value is not None]\n",
    "    changes = []\n",
    "\n",
    "    for i in range(1,n_row):\n",
    "        asset_changes = []\n",
    "        cell = sheet.cell(column=2, row=i)\n",
    "        asset_color = cell.fill.bgColor.index\n",
    "        if (asset_color != '00000000'):\n",
    "            effective_sheet = sheet[i][2:]              # we are interested in other columns\n",
    "            for j, col in enumerate(effective_sheet):     \n",
    "                col_color = col.fill.bgColor.index\n",
    "                if (col_color != '00000000'):           # if cell has color then we save the changes\n",
    "                    asset_changes.append({'value':col.value,'column':headers[col.column-1]})\n",
    "            changes.append({'id':sheet.cell(column=1, row=i).value ,'changes':asset_changes})\n",
    "\n",
    "    return changes\n",
    "            \n"
   ]
  },
  {
   "cell_type": "code",
   "execution_count": 6,
   "metadata": {},
   "outputs": [
    {
     "data": {
      "text/plain": [
       "[{'id': 393,\n",
       "  'changes': [{'value': 'ENEX', 'column': 'alias1'},\n",
       "   {'value': 'Especialista 4', 'column': 'alias2'}]},\n",
       " {'id': 429,\n",
       "  'changes': [{'value': 1, 'column': 'active'},\n",
       "   {'value': 'GEMIN', 'column': 'alias1'},\n",
       "   {'value': 'Especialista 6', 'column': 'alias2'}]},\n",
       " {'id': 491,\n",
       "  'changes': [{'value': 0, 'column': 'active'},\n",
       "   {'value': 'JYD M', 'column': 'alias1'},\n",
       "   {'value': 'Especialista 2', 'column': 'alias2'}]},\n",
       " {'id': 524,\n",
       "  'changes': [{'value': 0, 'column': 'active'},\n",
       "   {'value': 'P&J', 'column': 'alias1'},\n",
       "   {'value': 'Especialista 1', 'column': 'alias2'}]},\n",
       " {'id': 525,\n",
       "  'changes': [{'value': 0, 'column': 'active'},\n",
       "   {'value': 'P&J', 'column': 'alias1'},\n",
       "   {'value': 'Especialista 6', 'column': 'alias2'}]},\n",
       " {'id': 526,\n",
       "  'changes': [{'value': 0, 'column': 'active'},\n",
       "   {'value': 'P&J', 'column': 'alias1'},\n",
       "   {'value': 'Especialista 1', 'column': 'alias2'}]},\n",
       " {'id': 527,\n",
       "  'changes': [{'value': 0, 'column': 'active'},\n",
       "   {'value': 'P&J', 'column': 'alias1'},\n",
       "   {'value': 'Especialista 1', 'column': 'alias2'}]},\n",
       " {'id': 528,\n",
       "  'changes': [{'value': 0, 'column': 'active'},\n",
       "   {'value': 'P&J', 'column': 'alias1'},\n",
       "   {'value': 'Especialista 1', 'column': 'alias2'}]},\n",
       " {'id': 529,\n",
       "  'changes': [{'value': 0, 'column': 'active'},\n",
       "   {'value': 'P&J', 'column': 'alias1'},\n",
       "   {'value': 'Especialista 1', 'column': 'alias2'}]},\n",
       " {'id': 530,\n",
       "  'changes': [{'value': 0, 'column': 'active'},\n",
       "   {'value': 'P&J', 'column': 'alias1'},\n",
       "   {'value': 'Especialista 6', 'column': 'alias2'}]},\n",
       " {'id': 531,\n",
       "  'changes': [{'value': 0, 'column': 'active'},\n",
       "   {'value': 'P&J', 'column': 'alias1'},\n",
       "   {'value': 'Especialista 6', 'column': 'alias2'}]},\n",
       " {'id': 532,\n",
       "  'changes': [{'value': 1, 'column': 'active'},\n",
       "   {'value': 'P&J', 'column': 'alias1'},\n",
       "   {'value': 'Especialista 3', 'column': 'alias2'}]},\n",
       " {'id': 533,\n",
       "  'changes': [{'value': 0, 'column': 'active'},\n",
       "   {'value': 'P&J', 'column': 'alias1'},\n",
       "   {'value': 'Especialista 6', 'column': 'alias2'}]},\n",
       " {'id': 534,\n",
       "  'changes': [{'value': 0, 'column': 'active'},\n",
       "   {'value': 'P&J', 'column': 'alias1'},\n",
       "   {'value': 'Especialista 6', 'column': 'alias2'}]},\n",
       " {'id': 535,\n",
       "  'changes': [{'value': 1, 'column': 'active'},\n",
       "   {'value': 'P&J', 'column': 'alias1'},\n",
       "   {'value': 'Especialista 6', 'column': 'alias2'}]},\n",
       " {'id': 536,\n",
       "  'changes': [{'value': 0, 'column': 'active'},\n",
       "   {'value': 'P&J', 'column': 'alias1'},\n",
       "   {'value': 'Especialista 6', 'column': 'alias2'}]},\n",
       " {'id': 537,\n",
       "  'changes': [{'value': 0, 'column': 'active'},\n",
       "   {'value': 'P&J', 'column': 'alias1'},\n",
       "   {'value': 'Especialista 3', 'column': 'alias2'}]},\n",
       " {'id': 538,\n",
       "  'changes': [{'value': 1, 'column': 'active'},\n",
       "   {'value': 'P&J', 'column': 'alias1'},\n",
       "   {'value': 'Especialista 6', 'column': 'alias2'}]},\n",
       " {'id': 539,\n",
       "  'changes': [{'value': 1, 'column': 'active'},\n",
       "   {'value': 'P&J', 'column': 'alias1'},\n",
       "   {'value': 'Especialista 6', 'column': 'alias2'}]},\n",
       " {'id': 540,\n",
       "  'changes': [{'value': 1, 'column': 'active'},\n",
       "   {'value': 'P&J', 'column': 'alias1'},\n",
       "   {'value': 'Especialista 6', 'column': 'alias2'}]},\n",
       " {'id': 541,\n",
       "  'changes': [{'value': 0, 'column': 'active'},\n",
       "   {'value': 'P&J', 'column': 'alias1'},\n",
       "   {'value': 'Especialista 1', 'column': 'alias2'}]},\n",
       " {'id': 542,\n",
       "  'changes': [{'value': 0, 'column': 'active'},\n",
       "   {'value': 'P&J', 'column': 'alias1'},\n",
       "   {'value': 'Especialista 1', 'column': 'alias2'}]}]"
      ]
     },
     "execution_count": 6,
     "metadata": {},
     "output_type": "execute_result"
    }
   ],
   "source": [
    "changes = get_sheet_changes(file_i)\n",
    "changes"
   ]
  },
  {
   "cell_type": "code",
   "execution_count": 165,
   "metadata": {},
   "outputs": [],
   "source": [
    "def set_sheet_changes(changes, file_name):\n",
    "\n",
    "    df_master = pd.read_excel(file_name, sheet_name=0)\n",
    "\n",
    "    # Here we will do the changes in the line (row)\n",
    "    for change in changes:#[18:]:\n",
    "\n",
    "        t_e = datetime.utcnow().replace(hour=3, minute=0, second=0) - timedelta(seconds=1)\n",
    "        t_s = datetime.utcnow().replace(hour=3, minute=0, second=0)\n",
    "\n",
    "        idx = df_master.loc[df_master[\"id\"] == change[\"id\"]].index[0] # saving the index where there are changes\n",
    "\n",
    "\n",
    "        # we get the amount of void rows\n",
    "        void_rows_counter = 0\n",
    "        while(df_master.isna().loc[idx + 1 + void_rows_counter, \"id\"]):\n",
    "            void_rows_counter += 1\n",
    "\n",
    "\n",
    "\n",
    "        for col_change in change[\"changes\"]:    # iterating in all changes of certain row\n",
    "\n",
    "            print(change[\"id\"], col_change[\"column\"], col_change[\"value\"], void_rows_counter)\n",
    "\n",
    "            # If the previous value was different than the current one then we do the change (we compare in a string form)\n",
    "            if (str(df_master.loc[df_master[\"id\"] == change[\"id\"], col_change[\"column\"]].values[0]) != str(col_change[\"value\"])):\n",
    "                df_master.loc[df_master[\"id\"] == change[\"id\"], col_change[\"column\"]] = col_change[\"value\"]\n",
    "\n",
    "\n",
    "\n",
    "                ct          =   \"c_\" if str(col_change[\"column\"]) == \"active\" else \"t_\"\n",
    "                t_col_v     =   ct + col_change[\"column\"] + \"_v\"\n",
    "                t_col_ds    =   ct + col_change[\"column\"] + \"_ds\"\n",
    "                t_col_de    =   ct + col_change[\"column\"] + \"_de\"\n",
    "\n",
    "\n",
    "                # if the asset doesnt have void rows bellow then we check the line\n",
    "                if void_rows_counter == 0 :\n",
    "                    print(\"no tengo filas iniciales\")\n",
    "                    if df_master.loc[df_master[\"id\"] == change[\"id\"], t_col_v].isna().bool():\n",
    "                        df_master.loc[df_master[\"id\"] == change[\"id\"], t_col_v] = col_change[\"value\"]\n",
    "\n",
    "                    elif (df_master.loc[df_master[\"id\"] == change[\"id\"], t_col_v].values[0] != col_change[\"value\"]):\n",
    "                        print(str(df_master.loc[df_master[\"id\"] == change[\"id\"], t_col_v].values[0]), str(col_change[\"value\"]))\n",
    "                        void_row = pd.DataFrame([[np.nan for i in range(len(df_master.columns))]], columns=df_master.columns)\n",
    "                        void_row.loc[0, t_col_v] = col_change[\"value\"] # here we fill the cell\n",
    "\n",
    "                        df_master = pd.concat([df_master.iloc[:idx+1+void_rows_counter], void_row, df_master.iloc[idx+1+void_rows_counter:]]).reset_index(drop=True)\n",
    "                        void_rows_counter += 1\n",
    "\n",
    "                        df_master.loc[idx + void_rows_counter - 1, t_col_de] = t_e.strftime(\"%Y%m%d %H:%M:%S\")\n",
    "                        df_master.loc[idx + void_rows_counter, t_col_ds] = t_s.strftime(\"%Y%m%d %H:%M:%S\")\n",
    "\n",
    "                        print(\"se agrega fila\")\n",
    "\n",
    "\n",
    "                else :\n",
    "                    print(\"si tengo filas iniciales\")\n",
    "\n",
    "                    # we check the last added row and if the cell is void we search where we have to put the value\n",
    "                    if df_master.isna().loc[idx + void_rows_counter, t_col_v]:\n",
    "                        for i in range(void_rows_counter):\n",
    "\n",
    "                            if  (df_master.loc[idx + i, t_col_v] == col_change[\"value\"]): # (df_master.isna().loc[idx + 1 + i, t_col_v]) and\n",
    "                                print(\"Estoy vacio y el anterior si es lo mismo\")\n",
    "                                break\n",
    "\n",
    "                            else: #(df_master.loc[idx + i, t_col_v] != col_change[\"value\"]):\n",
    "                                df_master.loc[idx + 1 + i, t_col_v] = col_change[\"value\"]\n",
    "\n",
    "                                # here we put the end and start time of changes\n",
    "                                df_master.loc[idx + i, t_col_de] = t_e.strftime(\"%Y%m%d %H:%M:%S\")\n",
    "                                df_master.loc[idx + i + 1, t_col_ds] = t_s.strftime(\"%Y%m%d %H:%M:%S\")\n",
    "\n",
    "                                print(\"Estoy vacio y el anterior no es lo mismo\")\n",
    "                                print(str(df_master.loc[idx + i, t_col_v]), str(col_change[\"value\"]))\n",
    "                                break\n",
    "\n",
    "\n",
    "                    # if the last value is the same that the change then we dont do anything\n",
    "                    elif str(df_master.loc[idx + void_rows_counter, t_col_v].values[0]) == str(col_change[\"value\"]) :\n",
    "                        pass\n",
    "\n",
    "                    # if the last cell is filled then we add a void row and we put the value\n",
    "                    else:\n",
    "                        void_row = pd.DataFrame([[np.nan for i in range(len(df_master.columns))]], columns=df_master.columns)\n",
    "                        void_row.loc[0, t_col_v] = col_change[\"value\"] # here we fill the cell\n",
    "\n",
    "                        df_master = pd.concat([df_master.iloc[:idx+void_rows_counter], void_row, df_master.iloc[idx+void_rows_counter:]]).reset_index(drop=True)\n",
    "                        void_rows_counter += 1\n",
    "                        # here we put the end and start time of changes\n",
    "                        df_master.loc[idx + void_rows_counter - 1, t_col_de] = t_e.strftime(\"%Y%m%d %H:%M:%S\")\n",
    "                        df_master.loc[idx + void_rows_counter, t_col_ds] = t_s.strftime(\"%Y%m%d %H:%M:%S\")\n",
    "\n",
    "                        print(\"se agrega fila\")\n",
    "\n",
    "\n",
    "    df_master.to_excel(\"test.xlsx\", index = False)\n",
    "    df_master.to_csv(\"test.csv\")"
   ]
  },
  {
   "cell_type": "code",
   "execution_count": 166,
   "metadata": {},
   "outputs": [
    {
     "name": "stdout",
     "output_type": "stream",
     "text": [
      "393 alias1 ENEX 0\n",
      "no tengo filas iniciales\n",
      "EDS F ENEX\n",
      "se agrega fila\n",
      "393 alias2 Especialista 4 1\n",
      "429 active 1 1\n",
      "si tengo filas iniciales\n",
      "Estoy vacio y el anterior si es lo mismo\n",
      "429 alias1 GEMIN 1\n",
      "429 alias2 Especialista 6 1\n",
      "491 active 0 0\n",
      "no tengo filas iniciales\n",
      "1.0 0\n",
      "se agrega fila\n",
      "491 alias1 JYD M 1\n",
      "491 alias2 Especialista 2 1\n",
      "524 active 0 0\n",
      "no tengo filas iniciales\n",
      "524 alias1 P&J 0\n",
      "524 alias2 Especialista 1 0\n",
      "525 active 0 0\n",
      "no tengo filas iniciales\n",
      "525 alias1 P&J 0\n",
      "525 alias2 Especialista 6 0\n",
      "526 active 0 0\n",
      "no tengo filas iniciales\n",
      "1.0 0\n",
      "se agrega fila\n",
      "526 alias1 P&J 1\n",
      "526 alias2 Especialista 1 1\n",
      "527 active 0 0\n",
      "no tengo filas iniciales\n",
      "1.0 0\n",
      "se agrega fila\n",
      "527 alias1 P&J 1\n",
      "527 alias2 Especialista 1 1\n",
      "528 active 0 0\n",
      "no tengo filas iniciales\n",
      "1.0 0\n",
      "se agrega fila\n",
      "528 alias1 P&J 1\n",
      "528 alias2 Especialista 1 1\n",
      "529 active 0 0\n",
      "no tengo filas iniciales\n",
      "1.0 0\n",
      "se agrega fila\n",
      "529 alias1 P&J 1\n",
      "529 alias2 Especialista 1 1\n",
      "530 active 0 0\n",
      "no tengo filas iniciales\n",
      "530 alias1 P&J 0\n",
      "530 alias2 Especialista 6 0\n",
      "531 active 0 0\n",
      "no tengo filas iniciales\n",
      "531 alias1 P&J 0\n",
      "531 alias2 Especialista 6 0\n",
      "532 active 1 0\n",
      "no tengo filas iniciales\n",
      "532 alias1 P&J 0\n",
      "532 alias2 Especialista 3 0\n",
      "533 active 0 0\n",
      "no tengo filas iniciales\n",
      "533 alias1 P&J 0\n",
      "533 alias2 Especialista 6 0\n",
      "534 active 0 0\n",
      "no tengo filas iniciales\n",
      "534 alias1 P&J 0\n",
      "534 alias2 Especialista 6 0\n",
      "535 active 1 0\n",
      "no tengo filas iniciales\n",
      "535 alias1 P&J 0\n",
      "535 alias2 Especialista 6 0\n",
      "536 active 0 0\n",
      "no tengo filas iniciales\n",
      "1.0 0\n",
      "se agrega fila\n",
      "536 alias1 P&J 1\n",
      "536 alias2 Especialista 6 1\n",
      "537 active 0 0\n",
      "no tengo filas iniciales\n",
      "1.0 0\n",
      "se agrega fila\n",
      "537 alias1 P&J 1\n",
      "537 alias2 Especialista 3 1\n",
      "538 active 1 1\n",
      "si tengo filas iniciales\n",
      "Estoy vacio y el anterior si es lo mismo\n",
      "538 alias1 P&J 1\n",
      "538 alias2 Especialista 6 1\n",
      "539 active 1 1\n",
      "si tengo filas iniciales\n",
      "Estoy vacio y el anterior si es lo mismo\n",
      "539 alias1 P&J 1\n",
      "539 alias2 Especialista 6 1\n",
      "540 active 1 2\n",
      "si tengo filas iniciales\n",
      "Estoy vacio y el anterior si es lo mismo\n",
      "540 alias1 P&J 2\n",
      "540 alias2 Especialista 6 2\n",
      "541 active 0 0\n",
      "no tengo filas iniciales\n",
      "541 alias1 P&J 0\n",
      "541 alias2 Especialista 1 0\n",
      "542 active 0 0\n",
      "no tengo filas iniciales\n",
      "542 alias1 P&J 0\n",
      "542 alias2 Especialista 1 0\n"
     ]
    }
   ],
   "source": [
    "file_f = 'maestro_20230110.xlsx'\n",
    "set_sheet_changes(changes, file_f)"
   ]
  },
  {
   "cell_type": "code",
   "execution_count": 128,
   "metadata": {},
   "outputs": [
    {
     "data": {
      "text/plain": [
       "'P&J'"
      ]
     },
     "execution_count": 128,
     "metadata": {},
     "output_type": "execute_result"
    }
   ],
   "source": [
    "df_master.loc[df_master[\"id\"] == 524, \"t_alias1_v\"].values[0]"
   ]
  },
  {
   "cell_type": "code",
   "execution_count": 24,
   "metadata": {},
   "outputs": [
    {
     "name": "stdout",
     "output_type": "stream",
     "text": [
      "Hola\n"
     ]
    }
   ],
   "source": [
    "\n",
    "df_master = pd.read_excel(file_f, sheet_name=0)\n",
    "#idx = df_master.loc[df_master[\"id\"] == 393].index[0]\n",
    "if df_master.loc[df_master[\"id\"] == 393, \"t_alias1_v\"].isna().bool() == False:\n",
    "    print(\"Hola\")"
   ]
  },
  {
   "cell_type": "code",
   "execution_count": 24,
   "metadata": {},
   "outputs": [
    {
     "data": {
      "text/html": [
       "<div>\n",
       "<style scoped>\n",
       "    .dataframe tbody tr th:only-of-type {\n",
       "        vertical-align: middle;\n",
       "    }\n",
       "\n",
       "    .dataframe tbody tr th {\n",
       "        vertical-align: top;\n",
       "    }\n",
       "\n",
       "    .dataframe thead th {\n",
       "        text-align: right;\n",
       "    }\n",
       "</style>\n",
       "<table border=\"1\" class=\"dataframe\">\n",
       "  <thead>\n",
       "    <tr style=\"text-align: right;\">\n",
       "      <th></th>\n",
       "      <th>Name</th>\n",
       "      <th>Age</th>\n",
       "    </tr>\n",
       "  </thead>\n",
       "  <tbody>\n",
       "    <tr>\n",
       "      <th>0</th>\n",
       "      <td>John</td>\n",
       "      <td>25</td>\n",
       "    </tr>\n",
       "    <tr>\n",
       "      <th>1</th>\n",
       "      <td>Jane</td>\n",
       "      <td>30</td>\n",
       "    </tr>\n",
       "    <tr>\n",
       "      <th>2</th>\n",
       "      <td>None</td>\n",
       "      <td>35</td>\n",
       "    </tr>\n",
       "    <tr>\n",
       "      <th>3</th>\n",
       "      <td>Bob</td>\n",
       "      <td>40</td>\n",
       "    </tr>\n",
       "  </tbody>\n",
       "</table>\n",
       "</div>"
      ],
      "text/plain": [
       "   Name  Age\n",
       "0  John   25\n",
       "1  Jane   30\n",
       "2  None   35\n",
       "3   Bob   40"
      ]
     },
     "execution_count": 24,
     "metadata": {},
     "output_type": "execute_result"
    }
   ],
   "source": [
    "df = pd.DataFrame({'Name': ['John', 'Jane', None, 'Bob'], 'Age': [25, 30, 35, 40]})\n",
    "df"
   ]
  },
  {
   "cell_type": "code",
   "execution_count": 10,
   "metadata": {},
   "outputs": [
    {
     "data": {
      "text/html": [
       "<div>\n",
       "<style scoped>\n",
       "    .dataframe tbody tr th:only-of-type {\n",
       "        vertical-align: middle;\n",
       "    }\n",
       "\n",
       "    .dataframe tbody tr th {\n",
       "        vertical-align: top;\n",
       "    }\n",
       "\n",
       "    .dataframe thead th {\n",
       "        text-align: right;\n",
       "    }\n",
       "</style>\n",
       "<table border=\"1\" class=\"dataframe\">\n",
       "  <thead>\n",
       "    <tr style=\"text-align: right;\">\n",
       "      <th></th>\n",
       "      <th>Name</th>\n",
       "      <th>Age</th>\n",
       "    </tr>\n",
       "  </thead>\n",
       "  <tbody>\n",
       "    <tr>\n",
       "      <th>0</th>\n",
       "      <td>John</td>\n",
       "      <td>25.0</td>\n",
       "    </tr>\n",
       "    <tr>\n",
       "      <th>1</th>\n",
       "      <td>Jane</td>\n",
       "      <td>30.0</td>\n",
       "    </tr>\n",
       "    <tr>\n",
       "      <th>2</th>\n",
       "      <td>NaN</td>\n",
       "      <td>15.0</td>\n",
       "    </tr>\n",
       "    <tr>\n",
       "      <th>3</th>\n",
       "      <td>Bob</td>\n",
       "      <td>35.0</td>\n",
       "    </tr>\n",
       "    <tr>\n",
       "      <th>4</th>\n",
       "      <td>John</td>\n",
       "      <td>40.0</td>\n",
       "    </tr>\n",
       "  </tbody>\n",
       "</table>\n",
       "</div>"
      ],
      "text/plain": [
       "   Name   Age\n",
       "0  John  25.0\n",
       "1  Jane  30.0\n",
       "2   NaN  15.0\n",
       "3   Bob  35.0\n",
       "4  John  40.0"
      ]
     },
     "execution_count": 10,
     "metadata": {},
     "output_type": "execute_result"
    }
   ],
   "source": [
    "df = pd.DataFrame({'Name': ['John', 'Jane', 'Bob', 'John'], 'Age': [25, 30, 35, 40]})\n",
    "\n",
    "# Crear una nueva fila con todos los valores como NaN\n",
    "new_row = pd.DataFrame([[np.nan for i in range(len(df.columns))]], columns=df.columns)\n",
    "new_row.loc[0, \"Age\"] = 15\n",
    "\n",
    "# Concatenar la nueva fila con el DataFrame original\n",
    "df = pd.concat([df.iloc[:2], new_row, df.iloc[2:]]).reset_index(drop=True)\n",
    "df"
   ]
  },
  {
   "cell_type": "code",
   "execution_count": 17,
   "metadata": {},
   "outputs": [
    {
     "data": {
      "text/plain": [
       "Int64Index([3], dtype='int64')"
      ]
     },
     "execution_count": 17,
     "metadata": {},
     "output_type": "execute_result"
    }
   ],
   "source": [
    "aux = df[df[\"Name\"]==\"Bob\"]\n",
    "#aux.loc[3][1]\n",
    "aux.index"
   ]
  },
  {
   "cell_type": "code",
   "execution_count": 23,
   "metadata": {},
   "outputs": [
    {
     "data": {
      "text/plain": [
       "False"
      ]
     },
     "execution_count": 23,
     "metadata": {},
     "output_type": "execute_result"
    }
   ],
   "source": [
    "i = df.loc[df['Name'] == 'John'].index[0]\n",
    "df.isna().loc[i, \"Name\"]"
   ]
  },
  {
   "cell_type": "code",
   "execution_count": 41,
   "metadata": {},
   "outputs": [
    {
     "data": {
      "text/plain": [
       "array(['John', 'Bob', 'Jonas'], dtype='<U5')"
      ]
     },
     "execution_count": 41,
     "metadata": {},
     "output_type": "execute_result"
    }
   ],
   "source": [
    "arr = ['John', 'Jane', 'Bob', 'Jonas']\n",
    "condition1 = np.char.find(arr, 'Jo') > -1\n",
    "condition2 = np.char.find(arr, 'ob') > -1\n",
    "result = np.extract(np.logical_or(condition1, condition2), arr)\n",
    "result\n",
    "#result = arr[indices[0]]\n",
    "#result"
   ]
  },
  {
   "cell_type": "code",
   "execution_count": 152,
   "metadata": {},
   "outputs": [
    {
     "data": {
      "text/plain": [
       "datetime.datetime(2023, 1, 25, 13, 6, 45, 546181)"
      ]
     },
     "execution_count": 152,
     "metadata": {},
     "output_type": "execute_result"
    }
   ],
   "source": [
    "fecha_y_hora_actual = datetime.utcnow().replace(hour=0+input,minute=0,seconds=0)\n",
    "fecha_y_hora_actual\n",
    "fecha_y_hora_termino = fecha_y_hora_actual -timedelta(seconds=1)"
   ]
  },
  {
   "cell_type": "code",
   "execution_count": 153,
   "metadata": {},
   "outputs": [
    {
     "data": {
      "text/plain": [
       "'20230125 13:06:45'"
      ]
     },
     "execution_count": 153,
     "metadata": {},
     "output_type": "execute_result"
    }
   ],
   "source": [
    "fecha_y_hora_formateada = fecha_y_hora_actual.strftime(\"%Y%m%d %H:%M:%S\")\n",
    "fecha_y_hora_formateada"
   ]
  },
  {
   "cell_type": "code",
   "execution_count": 156,
   "metadata": {},
   "outputs": [
    {
     "data": {
      "text/plain": [
       "datetime.datetime(2023, 1, 25, 10, 0, 0, 158469)"
      ]
     },
     "execution_count": 156,
     "metadata": {},
     "output_type": "execute_result"
    }
   ],
   "source": [
    "datetime.utcnow().replace(hour=10, minute=0, second=0)"
   ]
  },
  {
   "cell_type": "code",
   "execution_count": 7,
   "metadata": {},
   "outputs": [
    {
     "data": {
      "text/html": [
       "<div>\n",
       "<style scoped>\n",
       "    .dataframe tbody tr th:only-of-type {\n",
       "        vertical-align: middle;\n",
       "    }\n",
       "\n",
       "    .dataframe tbody tr th {\n",
       "        vertical-align: top;\n",
       "    }\n",
       "\n",
       "    .dataframe thead th {\n",
       "        text-align: right;\n",
       "    }\n",
       "</style>\n",
       "<table border=\"1\" class=\"dataframe\">\n",
       "  <thead>\n",
       "    <tr style=\"text-align: right;\">\n",
       "      <th></th>\n",
       "      <th>Name</th>\n",
       "      <th>Age</th>\n",
       "    </tr>\n",
       "  </thead>\n",
       "  <tbody>\n",
       "    <tr>\n",
       "      <th>0</th>\n",
       "      <td>John</td>\n",
       "      <td>25</td>\n",
       "    </tr>\n",
       "    <tr>\n",
       "      <th>1</th>\n",
       "      <td>Jane</td>\n",
       "      <td>30</td>\n",
       "    </tr>\n",
       "    <tr>\n",
       "      <th>2</th>\n",
       "      <td>None</td>\n",
       "      <td>35</td>\n",
       "    </tr>\n",
       "    <tr>\n",
       "      <th>3</th>\n",
       "      <td>Bob</td>\n",
       "      <td>40</td>\n",
       "    </tr>\n",
       "  </tbody>\n",
       "</table>\n",
       "</div>"
      ],
      "text/plain": [
       "   Name  Age\n",
       "0  John   25\n",
       "1  Jane   30\n",
       "2  None   35\n",
       "3   Bob   40"
      ]
     },
     "execution_count": 7,
     "metadata": {},
     "output_type": "execute_result"
    }
   ],
   "source": [
    "df"
   ]
  },
  {
   "cell_type": "code",
   "execution_count": 8,
   "metadata": {},
   "outputs": [
    {
     "data": {
      "text/html": [
       "<div>\n",
       "<style scoped>\n",
       "    .dataframe tbody tr th:only-of-type {\n",
       "        vertical-align: middle;\n",
       "    }\n",
       "\n",
       "    .dataframe tbody tr th {\n",
       "        vertical-align: top;\n",
       "    }\n",
       "\n",
       "    .dataframe thead th {\n",
       "        text-align: right;\n",
       "    }\n",
       "</style>\n",
       "<table border=\"1\" class=\"dataframe\">\n",
       "  <thead>\n",
       "    <tr style=\"text-align: right;\">\n",
       "      <th></th>\n",
       "      <th>Name</th>\n",
       "      <th>Age</th>\n",
       "    </tr>\n",
       "  </thead>\n",
       "  <tbody>\n",
       "    <tr>\n",
       "      <th>0</th>\n",
       "      <td>John</td>\n",
       "      <td>25</td>\n",
       "    </tr>\n",
       "    <tr>\n",
       "      <th>1</th>\n",
       "      <td>Jane</td>\n",
       "      <td>30</td>\n",
       "    </tr>\n",
       "    <tr>\n",
       "      <th>2</th>\n",
       "      <td>None</td>\n",
       "      <td>35</td>\n",
       "    </tr>\n",
       "  </tbody>\n",
       "</table>\n",
       "</div>"
      ],
      "text/plain": [
       "   Name  Age\n",
       "0  John   25\n",
       "1  Jane   30\n",
       "2  None   35"
      ]
     },
     "execution_count": 8,
     "metadata": {},
     "output_type": "execute_result"
    }
   ],
   "source": [
    "df.loc[:2]"
   ]
  },
  {
   "cell_type": "code",
   "execution_count": 13,
   "metadata": {},
   "outputs": [
    {
     "data": {
      "text/plain": [
       "True"
      ]
     },
     "execution_count": 13,
     "metadata": {},
     "output_type": "execute_result"
    }
   ],
   "source": [
    "\"John\" in df[\"Name\"].unique()"
   ]
  },
  {
   "cell_type": "code",
   "execution_count": 18,
   "metadata": {},
   "outputs": [
    {
     "name": "stderr",
     "output_type": "stream",
     "text": [
      "/tmp/ipykernel_99610/4125989797.py:1: FutureWarning: The frame.append method is deprecated and will be removed from pandas in a future version. Use pandas.concat instead.\n",
      "  df.append({\"Name\": \"Jason\"}, ignore_index = 1)\n"
     ]
    },
    {
     "data": {
      "text/html": [
       "<div>\n",
       "<style scoped>\n",
       "    .dataframe tbody tr th:only-of-type {\n",
       "        vertical-align: middle;\n",
       "    }\n",
       "\n",
       "    .dataframe tbody tr th {\n",
       "        vertical-align: top;\n",
       "    }\n",
       "\n",
       "    .dataframe thead th {\n",
       "        text-align: right;\n",
       "    }\n",
       "</style>\n",
       "<table border=\"1\" class=\"dataframe\">\n",
       "  <thead>\n",
       "    <tr style=\"text-align: right;\">\n",
       "      <th></th>\n",
       "      <th>Name</th>\n",
       "      <th>Age</th>\n",
       "    </tr>\n",
       "  </thead>\n",
       "  <tbody>\n",
       "    <tr>\n",
       "      <th>0</th>\n",
       "      <td>John</td>\n",
       "      <td>25.0</td>\n",
       "    </tr>\n",
       "    <tr>\n",
       "      <th>1</th>\n",
       "      <td>Jane</td>\n",
       "      <td>30.0</td>\n",
       "    </tr>\n",
       "    <tr>\n",
       "      <th>2</th>\n",
       "      <td>None</td>\n",
       "      <td>35.0</td>\n",
       "    </tr>\n",
       "    <tr>\n",
       "      <th>3</th>\n",
       "      <td>Bob</td>\n",
       "      <td>40.0</td>\n",
       "    </tr>\n",
       "    <tr>\n",
       "      <th>4</th>\n",
       "      <td>Jason</td>\n",
       "      <td>NaN</td>\n",
       "    </tr>\n",
       "  </tbody>\n",
       "</table>\n",
       "</div>"
      ],
      "text/plain": [
       "    Name   Age\n",
       "0   John  25.0\n",
       "1   Jane  30.0\n",
       "2   None  35.0\n",
       "3    Bob  40.0\n",
       "4  Jason   NaN"
      ]
     },
     "execution_count": 18,
     "metadata": {},
     "output_type": "execute_result"
    }
   ],
   "source": [
    "df.append({\"Name\": \"Jason\"}, ignore_index = 1)"
   ]
  },
  {
   "cell_type": "code",
   "execution_count": 40,
   "metadata": {},
   "outputs": [],
   "source": [
    "df1 = pd.concat([df,pd.DataFrame({\"Name\": [\"Jason\"], \"Weight\": [81]})]).reset_index(drop=True)"
   ]
  },
  {
   "cell_type": "code",
   "execution_count": 41,
   "metadata": {},
   "outputs": [
    {
     "data": {
      "text/html": [
       "<div>\n",
       "<style scoped>\n",
       "    .dataframe tbody tr th:only-of-type {\n",
       "        vertical-align: middle;\n",
       "    }\n",
       "\n",
       "    .dataframe tbody tr th {\n",
       "        vertical-align: top;\n",
       "    }\n",
       "\n",
       "    .dataframe thead th {\n",
       "        text-align: right;\n",
       "    }\n",
       "</style>\n",
       "<table border=\"1\" class=\"dataframe\">\n",
       "  <thead>\n",
       "    <tr style=\"text-align: right;\">\n",
       "      <th></th>\n",
       "      <th>Name</th>\n",
       "      <th>Age</th>\n",
       "      <th>Weight</th>\n",
       "    </tr>\n",
       "  </thead>\n",
       "  <tbody>\n",
       "    <tr>\n",
       "      <th>0</th>\n",
       "      <td>John</td>\n",
       "      <td>25.0</td>\n",
       "      <td>65</td>\n",
       "    </tr>\n",
       "    <tr>\n",
       "      <th>1</th>\n",
       "      <td>Jane</td>\n",
       "      <td>30.0</td>\n",
       "      <td>55</td>\n",
       "    </tr>\n",
       "    <tr>\n",
       "      <th>2</th>\n",
       "      <td>None</td>\n",
       "      <td>35.0</td>\n",
       "      <td>72</td>\n",
       "    </tr>\n",
       "    <tr>\n",
       "      <th>3</th>\n",
       "      <td>Bob</td>\n",
       "      <td>40.0</td>\n",
       "      <td>67</td>\n",
       "    </tr>\n",
       "    <tr>\n",
       "      <th>4</th>\n",
       "      <td>Jason</td>\n",
       "      <td>NaN</td>\n",
       "      <td>81</td>\n",
       "    </tr>\n",
       "  </tbody>\n",
       "</table>\n",
       "</div>"
      ],
      "text/plain": [
       "    Name   Age  Weight\n",
       "0   John  25.0      65\n",
       "1   Jane  30.0      55\n",
       "2   None  35.0      72\n",
       "3    Bob  40.0      67\n",
       "4  Jason   NaN      81"
      ]
     },
     "execution_count": 41,
     "metadata": {},
     "output_type": "execute_result"
    }
   ],
   "source": [
    "df1"
   ]
  },
  {
   "cell_type": "code",
   "execution_count": 36,
   "metadata": {},
   "outputs": [],
   "source": [
    "df[\"Weight\"] = [65, 55, 72, 67]"
   ]
  },
  {
   "cell_type": "code",
   "execution_count": 37,
   "metadata": {},
   "outputs": [
    {
     "data": {
      "text/html": [
       "<div>\n",
       "<style scoped>\n",
       "    .dataframe tbody tr th:only-of-type {\n",
       "        vertical-align: middle;\n",
       "    }\n",
       "\n",
       "    .dataframe tbody tr th {\n",
       "        vertical-align: top;\n",
       "    }\n",
       "\n",
       "    .dataframe thead th {\n",
       "        text-align: right;\n",
       "    }\n",
       "</style>\n",
       "<table border=\"1\" class=\"dataframe\">\n",
       "  <thead>\n",
       "    <tr style=\"text-align: right;\">\n",
       "      <th></th>\n",
       "      <th>Name</th>\n",
       "      <th>Age</th>\n",
       "      <th>Weight</th>\n",
       "    </tr>\n",
       "  </thead>\n",
       "  <tbody>\n",
       "    <tr>\n",
       "      <th>0</th>\n",
       "      <td>John</td>\n",
       "      <td>25</td>\n",
       "      <td>65</td>\n",
       "    </tr>\n",
       "    <tr>\n",
       "      <th>1</th>\n",
       "      <td>Jane</td>\n",
       "      <td>30</td>\n",
       "      <td>55</td>\n",
       "    </tr>\n",
       "    <tr>\n",
       "      <th>2</th>\n",
       "      <td>None</td>\n",
       "      <td>35</td>\n",
       "      <td>72</td>\n",
       "    </tr>\n",
       "    <tr>\n",
       "      <th>3</th>\n",
       "      <td>Bob</td>\n",
       "      <td>40</td>\n",
       "      <td>67</td>\n",
       "    </tr>\n",
       "  </tbody>\n",
       "</table>\n",
       "</div>"
      ],
      "text/plain": [
       "   Name  Age  Weight\n",
       "0  John   25      65\n",
       "1  Jane   30      55\n",
       "2  None   35      72\n",
       "3   Bob   40      67"
      ]
     },
     "execution_count": 37,
     "metadata": {},
     "output_type": "execute_result"
    }
   ],
   "source": [
    "df"
   ]
  },
  {
   "cell_type": "code",
   "execution_count": null,
   "metadata": {},
   "outputs": [],
   "source": []
  }
 ],
 "metadata": {
  "kernelspec": {
   "display_name": "migtra3.10",
   "language": "python",
   "name": "python3"
  },
  "language_info": {
   "codemirror_mode": {
    "name": "ipython",
    "version": 3
   },
   "file_extension": ".py",
   "mimetype": "text/x-python",
   "name": "python",
   "nbconvert_exporter": "python",
   "pygments_lexer": "ipython3",
   "version": "3.10.6"
  },
  "orig_nbformat": 4,
  "vscode": {
   "interpreter": {
    "hash": "dd7dc5f126d485cf67406c316692407461c03767c66796eb9e140b96cd53e7d4"
   }
  }
 },
 "nbformat": 4,
 "nbformat_minor": 2
}
