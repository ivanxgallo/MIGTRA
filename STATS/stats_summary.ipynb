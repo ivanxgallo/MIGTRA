{
 "cells": [
  {
   "cell_type": "code",
   "execution_count": 13,
   "metadata": {},
   "outputs": [],
   "source": [
    "import pandas as pd\n",
    "import numpy as np\n",
    "from openpyxl import Workbook, load_workbook\n",
    "import os"
   ]
  },
  {
   "cell_type": "code",
   "execution_count": 2,
   "metadata": {},
   "outputs": [],
   "source": [
    "def get_csv_file_names(directory):\n",
    "    file_names = []\n",
    "    for filename in os.listdir(directory):\n",
    "        if os.path.isfile(os.path.join(directory, filename)) and filename.endswith('.csv'):\n",
    "            file_names.append(filename)\n",
    "    return file_names"
   ]
  },
  {
   "cell_type": "code",
   "execution_count": 5,
   "metadata": {},
   "outputs": [
    {
     "data": {
      "text/plain": [
       "['stats_coseducam2_samtech_20230201_20230209.csv',\n",
       " 'stats_codelcodven_multi_20230201_20230209.csv',\n",
       " 'stats_agrosuper_tp_gpschile_20230201_20230209.csv',\n",
       " 'stats_greenamerica2_gpscontrol_20230201_20230209.csv',\n",
       " 'stats_abastible_e_multi_20230201_20230209.csv',\n",
       " 'stats_sqmc3_samtech_20230201_20230209.csv',\n",
       " 'stats_sqmpt_samtech_20230201_20230209.csv',\n",
       " 'stats_astudillo_samtech_20230201_20230209.csv',\n",
       " 'stats_nazar_tracktec_20230201_20230209.csv',\n",
       " 'stats_sqmraevpp_samtech_20230201_20230209.csv',\n",
       " 'stats_agrosuper4_gpschile_20230201_20230209.csv',\n",
       " 'stats_spl2_multi_20230201_20230209.csv',\n",
       " 'stats_codelcodsal2_multi_20230201_20230209.csv',\n",
       " 'stats_codelcodsalc_mitta_20230201_20230209.csv',\n",
       " 'stats_enex_wisetrack_20230201_20230209.csv',\n",
       " 'stats_centinela_multi_20230201_20230209.csv',\n",
       " 'stats_abastible3_multi_20230201_20230209.csv']"
      ]
     },
     "execution_count": 5,
     "metadata": {},
     "output_type": "execute_result"
    }
   ],
   "source": [
    "directory = \"stats_/\"\n",
    "files = get_csv_file_names(directory)\n",
    "files"
   ]
  },
  {
   "cell_type": "code",
   "execution_count": 6,
   "metadata": {},
   "outputs": [],
   "source": [
    "clientes = [\n",
    "    \"coseducam2\",\n",
    "    \"agrosuper_tp\",\n",
    "    \"agrosuper4\",\n",
    "    \"greenamerica2\",\n",
    "    \"abastible_e\",\n",
    "    \"abastible3\",\n",
    "    \"sqmc3\",\n",
    "    \"sqmpt\",\n",
    "    \"sqmraevpp\",\n",
    "    \"codelcodsal2\",\n",
    "    \"codelcodsalc\",\n",
    "    \"codelcodven\",\n",
    "    \"enex\",\n",
    "    \"centinela\",\n",
    "    \"nazar\",\n",
    "    \"astudillo\",\n",
    "    \"spl2\"\n",
    "    ]"
   ]
  },
  {
   "cell_type": "code",
   "execution_count": 19,
   "metadata": {},
   "outputs": [],
   "source": [
    "csv_files = files\n",
    "\n",
    "# Crear un libro de Excel con varias hojas\n",
    "writer = pd.ExcelWriter('stats_clientes.xlsx', engine='openpyxl')\n",
    "\n",
    "# Loop para agregar cada archivo CSV a una hoja en el libro de Excel\n",
    "for file in csv_files:\n",
    "    title_name = \"\"\n",
    "    for c in clientes:\n",
    "        if c in file:\n",
    "            title_name = c.upper()\n",
    "    df = pd.read_csv(directory + file, sep = \";\")\n",
    "    df.to_excel(writer, sheet_name=title_name, index=False)\n",
    "\n",
    "# Guardar y cerrar el libro de Excel\n",
    "writer.close()"
   ]
  },
  {
   "cell_type": "code",
   "execution_count": null,
   "metadata": {},
   "outputs": [],
   "source": []
  }
 ],
 "metadata": {
  "kernelspec": {
   "display_name": "migtra3.10",
   "language": "python",
   "name": "python3"
  },
  "language_info": {
   "codemirror_mode": {
    "name": "ipython",
    "version": 3
   },
   "file_extension": ".py",
   "mimetype": "text/x-python",
   "name": "python",
   "nbconvert_exporter": "python",
   "pygments_lexer": "ipython3",
   "version": "3.10.6 (main, Nov 14 2022, 16:10:14) [GCC 11.3.0]"
  },
  "orig_nbformat": 4,
  "vscode": {
   "interpreter": {
    "hash": "dd7dc5f126d485cf67406c316692407461c03767c66796eb9e140b96cd53e7d4"
   }
  }
 },
 "nbformat": 4,
 "nbformat_minor": 2
}
